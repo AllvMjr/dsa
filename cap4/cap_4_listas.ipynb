{
 "cells": [
  {
   "cell_type": "code",
   "execution_count": 1,
   "id": "0d347577",
   "metadata": {},
   "outputs": [],
   "source": [
    "lista_1 = [\"arroz, frango, tomate, leite\"]"
   ]
  },
  {
   "cell_type": "code",
   "execution_count": 2,
   "id": "dcd96b07",
   "metadata": {},
   "outputs": [
    {
     "data": {
      "text/plain": [
       "list"
      ]
     },
     "execution_count": 2,
     "metadata": {},
     "output_type": "execute_result"
    }
   ],
   "source": [
    "type(lista_1)"
   ]
  },
  {
   "cell_type": "code",
   "execution_count": 3,
   "id": "3d07725c",
   "metadata": {},
   "outputs": [
    {
     "name": "stdout",
     "output_type": "stream",
     "text": [
      "['arroz, frango, tomate, leite']\n"
     ]
    }
   ],
   "source": [
    "print(lista_1)"
   ]
  },
  {
   "cell_type": "code",
   "execution_count": 4,
   "id": "f76e3b7b",
   "metadata": {},
   "outputs": [],
   "source": [
    "lista_2 = [\"arroz\", \"frango\", \"tomate\", \"leite\"]"
   ]
  },
  {
   "cell_type": "code",
   "execution_count": 5,
   "id": "71184b35",
   "metadata": {},
   "outputs": [
    {
     "data": {
      "text/plain": [
       "list"
      ]
     },
     "execution_count": 5,
     "metadata": {},
     "output_type": "execute_result"
    }
   ],
   "source": [
    "type(lista_2)"
   ]
  },
  {
   "cell_type": "code",
   "execution_count": 6,
   "id": "fce8cd9b",
   "metadata": {},
   "outputs": [
    {
     "name": "stdout",
     "output_type": "stream",
     "text": [
      "['arroz', 'frango', 'tomate', 'leite']\n"
     ]
    }
   ],
   "source": [
    "print(lista_2)"
   ]
  },
  {
   "cell_type": "code",
   "execution_count": 7,
   "id": "ab39d61e",
   "metadata": {},
   "outputs": [],
   "source": [
    "lista_3 = [23, 100, \"Cientista de Dados\"]"
   ]
  },
  {
   "cell_type": "code",
   "execution_count": 8,
   "id": "2c344963",
   "metadata": {},
   "outputs": [
    {
     "data": {
      "text/plain": [
       "list"
      ]
     },
     "execution_count": 8,
     "metadata": {},
     "output_type": "execute_result"
    }
   ],
   "source": [
    "type(lista_3)"
   ]
  },
  {
   "cell_type": "code",
   "execution_count": 9,
   "id": "2d92a0ea",
   "metadata": {},
   "outputs": [
    {
     "name": "stdout",
     "output_type": "stream",
     "text": [
      "[23, 100, 'Cientista de Dados']\n"
     ]
    }
   ],
   "source": [
    "print(lista_3)"
   ]
  }
 ],
 "metadata": {
  "kernelspec": {
   "display_name": "Python 3 (ipykernel)",
   "language": "python",
   "name": "python3"
  },
  "language_info": {
   "codemirror_mode": {
    "name": "ipython",
    "version": 3
   },
   "file_extension": ".py",
   "mimetype": "text/x-python",
   "name": "python",
   "nbconvert_exporter": "python",
   "pygments_lexer": "ipython3",
   "version": "3.10.12"
  }
 },
 "nbformat": 4,
 "nbformat_minor": 5
}
