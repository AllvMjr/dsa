{
 "cells": [
  {
   "cell_type": "code",
   "execution_count": null,
   "id": "8dee6351",
   "metadata": {},
   "outputs": [],
   "source": [
    "# Pegando a versão do python\n",
    "from platform import python_version\n",
    "print('Versão do python: ', python_version())"
   ]
  },
  {
   "cell_type": "markdown",
   "id": "62603cc4",
   "metadata": {},
   "source": [
    "# Métodos\n",
    "## Tudo em Python é objeto. pois a linguagem é orientada a objetos, e cada objeto tem métodos e atributos.\n",
    "\n",
    "Atributos são propriedades, características do objeto\n",
    "Métodos são funções com ações que podem ser executadas nos objetos"
   ]
  },
  {
   "cell_type": "code",
   "execution_count": null,
   "id": "64ce0837",
   "metadata": {},
   "outputs": [],
   "source": [
    "#criando uma lista\n",
    "lista = [100, -2, 12, 65, 0]"
   ]
  },
  {
   "cell_type": "code",
   "execution_count": null,
   "id": "77b4a169",
   "metadata": {},
   "outputs": [],
   "source": [
    "#objeto que informa o tipo de dado\n",
    "type(lista)"
   ]
  },
  {
   "cell_type": "code",
   "execution_count": null,
   "id": "d1acb9cf",
   "metadata": {},
   "outputs": [],
   "source": [
    "#verificando métodos e atributos\n",
    "lista"
   ]
  },
  {
   "cell_type": "code",
   "execution_count": null,
   "id": "c6e043cf",
   "metadata": {},
   "outputs": [],
   "source": [
    "#Usando o método do objeto lista\n",
    "lista.append(100)"
   ]
  },
  {
   "cell_type": "code",
   "execution_count": null,
   "id": "18f8d023",
   "metadata": {},
   "outputs": [],
   "source": [
    "#Imprimindo a lista\n",
    "print(lista)"
   ]
  },
  {
   "cell_type": "code",
   "execution_count": null,
   "id": "1b74bd2a",
   "metadata": {},
   "outputs": [],
   "source": [
    "#Usando um método do objeto lista\n",
    "lista.count(100)"
   ]
  },
  {
   "cell_type": "code",
   "execution_count": null,
   "id": "70ce93b0",
   "metadata": {},
   "outputs": [],
   "source": [
    "# Função help() explica como utilizar cada método de um objeto\n",
    "help(lista.count)"
   ]
  },
  {
   "cell_type": "code",
   "execution_count": null,
   "id": "2dc79a79",
   "metadata": {},
   "outputs": [],
   "source": [
    "#A função dir() mostra todos os métodos e atributos de um objeto\n",
    "dir(lista)"
   ]
  },
  {
   "cell_type": "code",
   "execution_count": null,
   "id": "08e5082e",
   "metadata": {},
   "outputs": [],
   "source": [
    "#String\n",
    "frase = \"Isto é uma string\""
   ]
  },
  {
   "cell_type": "code",
   "execution_count": null,
   "id": "eb8251d4",
   "metadata": {},
   "outputs": [],
   "source": [
    "#objeto que identifica o tipo de dado\n",
    "type(frase)"
   ]
  },
  {
   "cell_type": "code",
   "execution_count": null,
   "id": "a241e9a6",
   "metadata": {},
   "outputs": [],
   "source": [
    "#Ferificando métodos dos atributos\n",
    "frase"
   ]
  },
  {
   "cell_type": "code",
   "execution_count": null,
   "id": "52f04ef2",
   "metadata": {},
   "outputs": [],
   "source": [
    "#Método de um objeto pode ser chamado dentro de uma função, como print()\n",
    "print(frase.split())"
   ]
  },
  {
   "cell_type": "code",
   "execution_count": null,
   "id": "f8658770",
   "metadata": {},
   "outputs": [],
   "source": []
  }
 ],
 "metadata": {
  "kernelspec": {
   "display_name": "Python 3 (ipykernel)",
   "language": "python",
   "name": "python3"
  },
  "language_info": {
   "codemirror_mode": {
    "name": "ipython",
    "version": 3
   },
   "file_extension": ".py",
   "mimetype": "text/x-python",
   "name": "python",
   "nbconvert_exporter": "python",
   "pygments_lexer": "ipython3",
   "version": "3.10.12"
  }
 },
 "nbformat": 4,
 "nbformat_minor": 5
}
