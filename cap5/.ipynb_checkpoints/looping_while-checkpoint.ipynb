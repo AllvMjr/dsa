{
 "cells": [
  {
   "cell_type": "markdown",
   "id": "b5bd4a9d",
   "metadata": {},
   "source": [
    "# Loop while"
   ]
  },
  {
   "cell_type": "code",
   "execution_count": 1,
   "id": "ea40cc6c",
   "metadata": {},
   "outputs": [
    {
     "name": "stdout",
     "output_type": "stream",
     "text": [
      "0\n",
      "1\n",
      "2\n",
      "3\n",
      "4\n",
      "5\n",
      "6\n",
      "7\n",
      "8\n",
      "9\n"
     ]
    }
   ],
   "source": [
    "# Usanbdo o loop while para imprimir valores de 0 a 9\n",
    "# A condição tem que deixar de ser verdadeira dentro do loop, snão pode travar o navegador ou mesmo o computador\n",
    "\n",
    "valor = 0\n",
    "while valor < 10:\n",
    "    print(valor)\n",
    "    valor = valor + 1"
   ]
  },
  {
   "cell_type": "code",
   "execution_count": null,
   "id": "8c2635db",
   "metadata": {},
   "outputs": [],
   "source": [
    "# Entra no loop somente se a condição for verdadeira\n",
    "valor = 11\n",
    "while valor < 10:\n",
    "    print(valor)\n",
    "    valor = valor + 1"
   ]
  },
  {
   "cell_type": "code",
   "execution_count": 2,
   "id": "20d06cc2",
   "metadata": {},
   "outputs": [
    {
     "name": "stdout",
     "output_type": "stream",
     "text": [
      "O valor de x nesta iteração é:  0\n",
      " x ainda é menor que 10, somando 1 a x\n",
      "O valor de x nesta iteração é:  1\n",
      " x ainda é menor que 10, somando 1 a x\n",
      "O valor de x nesta iteração é:  2\n",
      " x ainda é menor que 10, somando 1 a x\n",
      "O valor de x nesta iteração é:  3\n",
      " x ainda é menor que 10, somando 1 a x\n",
      "O valor de x nesta iteração é:  4\n",
      " x ainda é menor que 10, somando 1 a x\n",
      "O valor de x nesta iteração é:  5\n",
      " x ainda é menor que 10, somando 1 a x\n",
      "O valor de x nesta iteração é:  6\n",
      " x ainda é menor que 10, somando 1 a x\n",
      "O valor de x nesta iteração é:  7\n",
      " x ainda é menor que 10, somando 1 a x\n",
      "O valor de x nesta iteração é:  8\n",
      " x ainda é menor que 10, somando 1 a x\n",
      "O valor de x nesta iteração é:  9\n",
      " x ainda é menor que 10, somando 1 a x\n",
      "Loop concluído\n",
      "10\n"
     ]
    }
   ],
   "source": [
    "# Também é possível usar a claúsula else para encerrar o loop while\n",
    "x = 0\n",
    "\n",
    "while x < 10:\n",
    "    print('O valor de x nesta iteração é: ', x)\n",
    "    print(' x ainda é menor que 10, somando 1 a x')\n",
    "    x += 1\n",
    "else:\n",
    "    print('Loop concluído')\n",
    "print(x)"
   ]
  },
  {
   "cell_type": "markdown",
   "id": "1d982591",
   "metadata": {},
   "source": [
    "Pass, Break, Continue"
   ]
  },
  {
   "cell_type": "code",
   "execution_count": 3,
   "id": "699b7885",
   "metadata": {},
   "outputs": [
    {
     "name": "stdout",
     "output_type": "stream",
     "text": [
      "0\n",
      "1\n",
      "2\n",
      "3\n"
     ]
    }
   ],
   "source": [
    "# Se encontrar o número 4 iterrompemos o loop\n",
    "valor = 0\n",
    "\n",
    "while valor < 10:\n",
    "    if valor == 4:\n",
    "        break\n",
    "    else:\n",
    "        pass\n",
    "    print(valor)\n",
    "    valor = valor + 1"
   ]
  },
  {
   "cell_type": "code",
   "execution_count": null,
   "id": "2dc4ff26",
   "metadata": {},
   "outputs": [],
   "source": [
    "# Desconsideramos a letra Z ao imprimir os caracteres da fraze\n",
    "\n",
    "for letra in \"Ptyhon é zzz incrível\":\n",
    "    if letra == 'z':\n",
    "        continue\n",
    "    print(letra)"
   ]
  }
 ],
 "metadata": {
  "kernelspec": {
   "display_name": "Python 3 (ipykernel)",
   "language": "python",
   "name": "python3"
  },
  "language_info": {
   "codemirror_mode": {
    "name": "ipython",
    "version": 3
   },
   "file_extension": ".py",
   "mimetype": "text/x-python",
   "name": "python",
   "nbconvert_exporter": "python",
   "pygments_lexer": "ipython3",
   "version": "3.10.12"
  }
 },
 "nbformat": 4,
 "nbformat_minor": 5
}
