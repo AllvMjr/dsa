{
 "cells": [
  {
   "cell_type": "markdown",
   "id": "2d3f646f",
   "metadata": {},
   "source": [
    "# Loop for"
   ]
  },
  {
   "cell_type": "code",
   "execution_count": 1,
   "id": "17eaa30d",
   "metadata": {},
   "outputs": [
    {
     "name": "stdout",
     "output_type": "stream",
     "text": [
      "2\n",
      "3\n",
      "4\n"
     ]
    }
   ],
   "source": [
    "#Criando uma tupla e imprimindo cada um dos caracteres\n",
    "tp = (2, 3, 4) #<-- Tupla e quando usamos parenteses\n",
    "for i in tp: # <-- Para cada elemento de i dentro de TP:\n",
    "    print(i) # <-- Imprima i"
   ]
  },
  {
   "cell_type": "code",
   "execution_count": 2,
   "id": "f0c1ee84",
   "metadata": {},
   "outputs": [
    {
     "name": "stdout",
     "output_type": "stream",
     "text": [
      "Data\n",
      "Science\n",
      "Academy\n"
     ]
    }
   ],
   "source": [
    "#Criando uma lista e imprimindo cada um dos valores\n",
    "listadeStrings = [\"Data\", \"Science\", \"Academy\"] # <-- Lista usa colchetes\n",
    "for i in listadeStrings:\n",
    "    print(i)"
   ]
  },
  {
   "cell_type": "code",
   "execution_count": 3,
   "id": "34c8f513",
   "metadata": {},
   "outputs": [
    {
     "name": "stdout",
     "output_type": "stream",
     "text": [
      "0\n",
      "1\n",
      "2\n",
      "3\n",
      "4\n"
     ]
    }
   ],
   "source": [
    "#Criando os valores no intervalo de 0 a 5 (exclusive)\n",
    "for contador in range(0, 5):\n",
    "    print(contador)"
   ]
  },
  {
   "cell_type": "code",
   "execution_count": 5,
   "id": "7b476c46",
   "metadata": {},
   "outputs": [
    {
     "name": "stdout",
     "output_type": "stream",
     "text": [
      "2\n",
      "4\n",
      "6\n",
      "8\n",
      "10\n"
     ]
    }
   ],
   "source": [
    "#Imprimindo os números pares da lista de números\n",
    "lista = [1, 2, 3, 4, 5, 6, 7, 8, 9, 10]\n",
    "for num in lista: # <-- Para cada num dentro da lista\n",
    "    if num % 2 == 0:\n",
    "        print(num)"
   ]
  },
  {
   "cell_type": "code",
   "execution_count": 6,
   "id": "e139c1fb",
   "metadata": {},
   "outputs": [
    {
     "name": "stdout",
     "output_type": "stream",
     "text": [
      "0\n",
      "2\n",
      "4\n",
      "6\n",
      "8\n",
      "10\n",
      "12\n",
      "14\n",
      "16\n",
      "18\n",
      "20\n",
      "22\n",
      "24\n",
      "26\n",
      "28\n",
      "30\n",
      "32\n",
      "34\n",
      "36\n",
      "38\n",
      "40\n",
      "42\n",
      "44\n",
      "46\n",
      "48\n",
      "50\n",
      "52\n",
      "54\n",
      "56\n",
      "58\n",
      "60\n",
      "62\n",
      "64\n",
      "66\n",
      "68\n",
      "70\n",
      "72\n",
      "74\n",
      "76\n",
      "78\n",
      "80\n",
      "82\n",
      "84\n",
      "86\n",
      "88\n",
      "90\n",
      "92\n",
      "94\n",
      "96\n",
      "98\n",
      "100\n"
     ]
    }
   ],
   "source": [
    "#Listando os números no intervalo entre 0 e 101, com incremento em 2\n",
    "for i in range(0, 101, 2):\n",
    "    print(i)"
   ]
  },
  {
   "cell_type": "code",
   "execution_count": 7,
   "id": "912909f9",
   "metadata": {},
   "outputs": [
    {
     "name": "stdout",
     "output_type": "stream",
     "text": [
      "P\n",
      "y\n",
      "t\n",
      "h\n",
      "o\n",
      "n\n",
      " \n",
      "é\n",
      " \n",
      "u\n",
      "m\n",
      "a\n",
      " \n",
      "l\n",
      "i\n",
      "n\n",
      "g\n",
      "u\n",
      "e\n",
      "g\n",
      "e\n",
      "m\n",
      " \n",
      "d\n",
      "e\n",
      " \n",
      "p\n",
      "r\n",
      "o\n",
      "g\n",
      "r\n",
      "a\n",
      "m\n",
      "a\n",
      "ç\n",
      "ã\n",
      "o\n",
      " \n",
      "d\n",
      "i\n",
      "v\n",
      "e\n",
      "r\n",
      "t\n",
      "i\n",
      "d\n",
      "a\n"
     ]
    }
   ],
   "source": [
    "# String também são sequências\n",
    "for caracter in \"Python é uma linguegem de programação divertida\":\n",
    "    print(caracter)"
   ]
  },
  {
   "cell_type": "markdown",
   "id": "6d7a09c5",
   "metadata": {},
   "source": [
    "# Loop aninhados"
   ]
  },
  {
   "cell_type": "code",
   "execution_count": 12,
   "id": "1addfeee",
   "metadata": {},
   "outputs": [
    {
     "name": "stdout",
     "output_type": "stream",
     "text": [
      "0\n",
      "0\n",
      "0\n",
      "-------\n",
      "1\n",
      "2\n",
      "3\n",
      "-------\n",
      "2\n",
      "4\n",
      "6\n",
      "-------\n",
      "3\n",
      "6\n",
      "9\n",
      "-------\n",
      "4\n",
      "8\n",
      "12\n",
      "-------\n"
     ]
    }
   ],
   "source": [
    "# Lista Aninhados\n",
    "lista1 = [0, 1, 2, 3, 4]\n",
    "lista2 = [1, 2, 3]\n",
    "\n",
    "#Looping Externo\n",
    "for elemento_lista1 in lista1:\n",
    "    \n",
    "    #Looping Interno\n",
    "    for elemento_lista2 in lista2:\n",
    "        print(elemento_lista1 * elemento_lista2)\n",
    "        \n",
    "    print('-------')"
   ]
  },
  {
   "cell_type": "code",
   "execution_count": 14,
   "id": "b2aa7749",
   "metadata": {},
   "outputs": [
    {
     "name": "stdout",
     "output_type": "stream",
     "text": [
      "O numero 47 foi encontrado nas duas listas\n"
     ]
    }
   ],
   "source": [
    "#O número 47 aparece nas duas listas ?\n",
    "lista1 = [10, 16, 24, 39, 47]\n",
    "lista2 = [32, 89,47, 76, 12]\n",
    "\n",
    "#loop externo\n",
    "for elemento_lista1 in lista1:\n",
    "    \n",
    "    #loop interno\n",
    "    for elemento_lista2 in lista2:\n",
    "        \n",
    "        #condicional\n",
    "        if elemento_lista1 == 47 and elemento_lista2 == 47:\n",
    "            print(\"O numero 47 foi encontrado nas duas listas\")"
   ]
  },
  {
   "cell_type": "code",
   "execution_count": 20,
   "id": "3fd81eef",
   "metadata": {},
   "outputs": [
    {
     "name": "stdout",
     "output_type": "stream",
     "text": [
      "42\n",
      "128\n",
      "150\n",
      "198\n",
      "290\n",
      "318\n",
      "374\n",
      "474\n",
      "510\n",
      "--- 510\n"
     ]
    }
   ],
   "source": [
    "#some os numeros pares da primeria lista com os números pares da segunda lista\n",
    "lista1 = [10, 16, 24, 39, 47]\n",
    "lista2 = [32, 89,47, 76, 12]\n",
    "soma = 0\n",
    "\n",
    "#loop externo\n",
    "for elemento_lista1 in lista1:\n",
    "    \n",
    "    #looping interno\n",
    "    for elemento_lista2 in lista2:\n",
    "        \n",
    "        #soma numeros pares\n",
    "        if elemento_lista1 % 2 == 0 and elemento_lista2 % 2 == 0:\n",
    "            soma += elemento_lista1 + elemento_lista2;\n",
    "            print(soma)\n",
    "print('---', soma)"
   ]
  },
  {
   "cell_type": "code",
   "execution_count": 16,
   "id": "6071f7a6",
   "metadata": {},
   "outputs": [
    {
     "name": "stdout",
     "output_type": "stream",
     "text": [
      "10  ---\n",
      "26  ---\n",
      "50  ---\n",
      "50  ---\n",
      "50  ---\n",
      "82  ---\n",
      "82  ---\n",
      "82  ---\n",
      "158  ---\n",
      "170  ---\n",
      "A soma da lista dos numeros páres é igual a 170\n"
     ]
    }
   ],
   "source": [
    "#some os numeros pares da primeria lista com os números pares da segunda lista\n",
    "lista1 = [10, 16, 24, 39, 47]\n",
    "lista2 = [32, 89,47, 76, 12]\n",
    "soma = 0\n",
    "\n",
    "#Looping externo\n",
    "for lista in [lista1, lista2]:\n",
    "    \n",
    "    #looping interno\n",
    "    for num in lista:\n",
    "        \n",
    "        #condicional\n",
    "        if num % 2 == 0:\n",
    "            soma += num\n",
    "        print(soma, \" ---\")\n",
    "print('A soma da lista dos numeros páres é igual a', soma)"
   ]
  },
  {
   "cell_type": "code",
   "execution_count": 21,
   "id": "7d1388fb",
   "metadata": {},
   "outputs": [
    {
     "data": {
      "text/plain": [
       "[10, 16, 24, 39, 47, 32, 89, 47, 76, 12]"
      ]
     },
     "execution_count": 21,
     "metadata": {},
     "output_type": "execute_result"
    }
   ],
   "source": [
    "#listas podem ser concatenadas\n",
    "lista1+ lista2"
   ]
  },
  {
   "cell_type": "code",
   "execution_count": 25,
   "id": "32980227",
   "metadata": {},
   "outputs": [
    {
     "name": "stdout",
     "output_type": "stream",
     "text": [
      "10  ---\n",
      "26  ---\n",
      "50  ---\n",
      "82  ---\n",
      "158  ---\n",
      "170  ---\n",
      "A soma da lista dos numeros páres é igual a 170\n"
     ]
    }
   ],
   "source": [
    "#some os numeros pares da primeria lista com os números pares da segunda lista\n",
    "lista1 = [10, 16, 24, 39, 47]\n",
    "lista2 = [32, 89,47, 76, 12]\n",
    "soma = 0\n",
    "\n",
    "#Looping externo\n",
    "for num in lista1 + lista2:\n",
    "    if num % 2 == 0:\n",
    "        soma += num   \n",
    "        print(soma, \" ---\")\n",
    "print('A soma da lista dos numeros páres é igual a', soma)"
   ]
  },
  {
   "cell_type": "code",
   "execution_count": 26,
   "id": "317e7601",
   "metadata": {},
   "outputs": [
    {
     "name": "stdout",
     "output_type": "stream",
     "text": [
      "maior numero é : 215\n"
     ]
    }
   ],
   "source": [
    "# loop em lista de listas (matrizes) para encontrar o maior numero\n",
    "\n",
    "matriz = [[42, 23, 34], [100, 215, 114], [10.1, 98.7, 12.3]]\n",
    "maior_numero = 0\n",
    "\n",
    "#loop externo\n",
    "for linha in matriz:\n",
    "    \n",
    "    #loopinterno\n",
    "    for num in linha:\n",
    "        \n",
    "        #condicional\n",
    "        if num > maior_numero:\n",
    "            maior_numero = num\n",
    "print(\"maior numero é :\", maior_numero)"
   ]
  },
  {
   "cell_type": "code",
   "execution_count": 28,
   "id": "f912d39f",
   "metadata": {},
   "outputs": [
    {
     "name": "stdout",
     "output_type": "stream",
     "text": [
      "k1\n",
      "k2\n",
      "k3\n"
     ]
    }
   ],
   "source": [
    "# listando as chamdes de um dicionário\n",
    "dict = {'k1': 'Python', 'k2' : 'R', 'k3' : 'Scala'} #<-- dicionario é usada chaves como no json\n",
    "for item in dict:\n",
    "    print(item)"
   ]
  },
  {
   "cell_type": "code",
   "execution_count": 29,
   "id": "8e7adf53",
   "metadata": {},
   "outputs": [
    {
     "name": "stdout",
     "output_type": "stream",
     "text": [
      "k1 Python\n",
      "k2 R\n",
      "k3 Scala\n"
     ]
    }
   ],
   "source": [
    "#Imporimindo chamd e valor de um dicionário\n",
    "for k, v in dict.items():\n",
    "    print(k, v)"
   ]
  },
  {
   "cell_type": "code",
   "execution_count": null,
   "id": "d0c6d051",
   "metadata": {},
   "outputs": [],
   "source": []
  }
 ],
 "metadata": {
  "kernelspec": {
   "display_name": "Python 3 (ipykernel)",
   "language": "python",
   "name": "python3"
  },
  "language_info": {
   "codemirror_mode": {
    "name": "ipython",
    "version": 3
   },
   "file_extension": ".py",
   "mimetype": "text/x-python",
   "name": "python",
   "nbconvert_exporter": "python",
   "pygments_lexer": "ipython3",
   "version": "3.10.12"
  }
 },
 "nbformat": 4,
 "nbformat_minor": 5
}
