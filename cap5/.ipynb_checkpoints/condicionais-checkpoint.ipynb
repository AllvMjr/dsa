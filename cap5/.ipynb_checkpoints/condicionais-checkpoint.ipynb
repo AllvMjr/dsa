{
 "cells": [
  {
   "cell_type": "code",
   "execution_count": 1,
   "id": "f167732a",
   "metadata": {},
   "outputs": [
    {
     "name": "stdout",
     "output_type": "stream",
     "text": [
      "A sentença é verdadeira\n"
     ]
    }
   ],
   "source": [
    "#Condicional If\n",
    "if 5 > 2:\n",
    "    print(\"A sentença é verdadeira\")"
   ]
  },
  {
   "cell_type": "code",
   "execution_count": null,
   "id": "d20e257b",
   "metadata": {},
   "outputs": [],
   "source": [
    "#Conficional if ..else\n",
    "if 5 < 2 :\n",
    "    print(\"Sentença verdadeira\")\n",
    "else:\n",
    "    print(\"Sentença falsa\")"
   ]
  },
  {
   "cell_type": "code",
   "execution_count": null,
   "id": "fdfec7f7",
   "metadata": {},
   "outputs": [],
   "source": [
    "#Condicional if..else com variavel\n",
    "dia = \"Terça\"\n",
    "if dia ==\"Segunda\":\n",
    "    print('Hoje fará sol')\n",
    "else:\n",
    "    print(\"Hoje vai chover\")"
   ]
  },
  {
   "cell_type": "code",
   "execution_count": null,
   "id": "cc273c65",
   "metadata": {},
   "outputs": [],
   "source": [
    "#Podemos utilizar o operador elif para validar mais de uma condição\n",
    "if dia == \"Segunda\":\n",
    "    print(\"Hoje fará sol\")\n",
    "elif dia == \"Terça\":\n",
    "    print(\"Hoje vai chover\")\n",
    "else:\n",
    "    print('Sem previsão do tempo para o dia selecionado')"
   ]
  },
  {
   "cell_type": "markdown",
   "id": "fe5fe131",
   "metadata": {},
   "source": [
    "Operadores Relacionais"
   ]
  },
  {
   "cell_type": "code",
   "execution_count": null,
   "id": "5ee421dd",
   "metadata": {},
   "outputs": [],
   "source": [
    "6 > 3"
   ]
  },
  {
   "cell_type": "code",
   "execution_count": null,
   "id": "16eb2f2f",
   "metadata": {},
   "outputs": [],
   "source": [
    "3 > 7"
   ]
  },
  {
   "cell_type": "code",
   "execution_count": null,
   "id": "c2323568",
   "metadata": {},
   "outputs": [],
   "source": [
    "4 < 8"
   ]
  },
  {
   "cell_type": "code",
   "execution_count": null,
   "id": "f5093f44",
   "metadata": {},
   "outputs": [],
   "source": [
    "4 >= 4"
   ]
  },
  {
   "cell_type": "code",
   "execution_count": null,
   "id": "8dd69798",
   "metadata": {},
   "outputs": [],
   "source": [
    "if 5 == 5:\n",
    "    print(\"Testando Paython\")"
   ]
  },
  {
   "cell_type": "code",
   "execution_count": null,
   "id": "e134c159",
   "metadata": {},
   "outputs": [],
   "source": [
    "if True:\n",
    "    print(\"Parece que python funciona\")"
   ]
  },
  {
   "cell_type": "code",
   "execution_count": null,
   "id": "6d970d70",
   "metadata": {},
   "outputs": [],
   "source": [
    "#Atenção com a sintaxe\n",
    "if 4 > 3:\n",
    "print('Tudo funciona')"
   ]
  },
  {
   "cell_type": "code",
   "execution_count": null,
   "id": "b9112364",
   "metadata": {},
   "outputs": [],
   "source": []
  }
 ],
 "metadata": {
  "kernelspec": {
   "display_name": "Python 3 (ipykernel)",
   "language": "python",
   "name": "python3"
  },
  "language_info": {
   "codemirror_mode": {
    "name": "ipython",
    "version": 3
   },
   "file_extension": ".py",
   "mimetype": "text/x-python",
   "name": "python",
   "nbconvert_exporter": "python",
   "pygments_lexer": "ipython3",
   "version": "3.10.12"
  }
 },
 "nbformat": 4,
 "nbformat_minor": 5
}
