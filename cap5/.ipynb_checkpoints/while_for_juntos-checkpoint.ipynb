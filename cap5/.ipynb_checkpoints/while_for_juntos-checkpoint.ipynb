{
 "cells": [
  {
   "cell_type": "markdown",
   "id": "2117cf00",
   "metadata": {},
   "source": [
    "# While e For juntos"
   ]
  },
  {
   "cell_type": "markdown",
   "id": "79a314d5",
   "metadata": {},
   "source": [
    "#Pseudocódigo\n",
    "Inicialize uma lista vazia para armazenar os números primos\n",
    "Para cada nũmero N entre 2 e 30:\n",
    "  Inicialize uma variavel eh_primo como verdadeira\n",
    "    Pra cada número i entre 2 e N/2:\n",
    "        Se N é divisivel por i, então:\n",
    "            altere a variavel eh_primo para falso\n",
    "            Pare de verificar os outros números\n",
    "  Se a variável eh_primo ainda é verdadeira, adicione N a lista de números primos\n",
    "Imprima a lista de nũmeros primos"
   ]
  },
  {
   "cell_type": "code",
   "execution_count": 1,
   "id": "683dcfd0",
   "metadata": {},
   "outputs": [
    {
     "name": "stdout",
     "output_type": "stream",
     "text": [
      "CPU times: user 16 µs, sys: 1 µs, total: 17 µs\n",
      "Wall time: 19.1 µs\n"
     ]
    }
   ],
   "source": [
    "%%time\n",
    "#Encontrando números primos entre 2 e 30 usando loop for e while\n",
    "#variável para armazenar números primos\n",
    "primos = []\n",
    "\n",
    "#Loop para percorrer números de 2 a 30\n",
    "for num in range(2, 31):\n",
    "    \n",
    "    #variável pra controle\n",
    "    eh_primo = True\n",
    "    \n",
    "    #loop while para verificar se o número é primo\n",
    "    i = 2\n",
    "    while i <= num //2:\n",
    "        if num % i == 0:\n",
    "            eh_primo = False\n",
    "            break\n",
    "        i += 1\n",
    "    \n",
    "    #adiciona o número primo na lista\n",
    "    if eh_primo:\n",
    "        primos.append(num)\n",
    "\n",
    "#Imprimindo a lista de nũmeros primos\n",
    "#print(primos)"
   ]
  },
  {
   "cell_type": "code",
   "execution_count": 2,
   "id": "b597768c",
   "metadata": {},
   "outputs": [
    {
     "name": "stdout",
     "output_type": "stream",
     "text": [
      "CPU times: user 48 µs, sys: 0 ns, total: 48 µs\n",
      "Wall time: 50.1 µs\n"
     ]
    }
   ],
   "source": [
    "%%time\n",
    "#Encontrando números primos entre 2 e 30 usando loop for e while\n",
    "#variável para armazenar números primos\n",
    "primos = []\n",
    "\n",
    "#Loop para percorrer números de 2 a 30\n",
    "for i in range(2, 31):\n",
    "    \n",
    "    #variável de controle\n",
    "    j = 2\n",
    "    \n",
    "    #contador\n",
    "    valor = 0\n",
    "    \n",
    "    #loopwhile para verificar se o número é primo\n",
    "    while j < i:\n",
    "        if i %j == 0:\n",
    "            valor = 1\n",
    "            j = j + 1\n",
    "        else:\n",
    "            j = j + 1\n",
    "    \n",
    "    if valor == 0:\n",
    "        valor = 0"
   ]
  },
  {
   "cell_type": "code",
   "execution_count": null,
   "id": "8734df2e",
   "metadata": {},
   "outputs": [],
   "source": []
  }
 ],
 "metadata": {
  "kernelspec": {
   "display_name": "Python 3 (ipykernel)",
   "language": "python",
   "name": "python3"
  },
  "language_info": {
   "codemirror_mode": {
    "name": "ipython",
    "version": 3
   },
   "file_extension": ".py",
   "mimetype": "text/x-python",
   "name": "python",
   "nbconvert_exporter": "python",
   "pygments_lexer": "ipython3",
   "version": "3.10.12"
  }
 },
 "nbformat": 4,
 "nbformat_minor": 5
}
