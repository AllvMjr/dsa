{
 "cells": [
  {
   "cell_type": "code",
   "execution_count": 1,
   "id": "15231825",
   "metadata": {},
   "outputs": [
    {
     "name": "stdout",
     "output_type": "stream",
     "text": [
      "Versão do python é:  3.10.12\n"
     ]
    }
   ],
   "source": [
    "#importando as classes do python_version\n",
    "from platform import python_version\n",
    "print(\"Versão do python é: \", python_version())"
   ]
  },
  {
   "cell_type": "code",
   "execution_count": 5,
   "id": "1fa16247",
   "metadata": {},
   "outputs": [
    {
     "name": "stdout",
     "output_type": "stream",
     "text": [
      "Hello world\n"
     ]
    }
   ],
   "source": [
    "print(\"Hello world\")"
   ]
  },
  {
   "cell_type": "code",
   "execution_count": 6,
   "id": "b698d264",
   "metadata": {},
   "outputs": [],
   "source": [
    "#Definindo uma função\n",
    "def primeiraFunc():\n",
    "    nome = 'Bob'\n",
    "    print('Hello %s '%(nome))"
   ]
  },
  {
   "cell_type": "code",
   "execution_count": 7,
   "id": "bd5bb023",
   "metadata": {},
   "outputs": [
    {
     "name": "stdout",
     "output_type": "stream",
     "text": [
      "Hello Bob \n"
     ]
    }
   ],
   "source": [
    "primeiraFunc()"
   ]
  },
  {
   "cell_type": "code",
   "execution_count": 9,
   "id": "97947881",
   "metadata": {},
   "outputs": [],
   "source": [
    "#Definindo a segunda função\n",
    "def segundaFunc(nome):\n",
    "    print(\"Hello %s\" %(nome))"
   ]
  },
  {
   "cell_type": "code",
   "execution_count": 10,
   "id": "c80ddcb3",
   "metadata": {},
   "outputs": [
    {
     "name": "stdout",
     "output_type": "stream",
     "text": [
      "Hello Alvaro\n"
     ]
    }
   ],
   "source": [
    "#usando a Segunda função\n",
    "segundaFunc('Alvaro')"
   ]
  },
  {
   "cell_type": "code",
   "execution_count": null,
   "id": "8504f2bb",
   "metadata": {},
   "outputs": [],
   "source": [
    "#Função para imprimir numeros\n",
    "def imprimeNumeros():\n",
    "    #loop\n",
    "    for i in range(0, 11):\n",
    "        print(\"Número \" + str(i))"
   ]
  }
 ],
 "metadata": {
  "kernelspec": {
   "display_name": "Python 3 (ipykernel)",
   "language": "python",
   "name": "python3"
  },
  "language_info": {
   "codemirror_mode": {
    "name": "ipython",
    "version": 3
   },
   "file_extension": ".py",
   "mimetype": "text/x-python",
   "name": "python",
   "nbconvert_exporter": "python",
   "pygments_lexer": "ipython3",
   "version": "3.10.12"
  }
 },
 "nbformat": 4,
 "nbformat_minor": 5
}
