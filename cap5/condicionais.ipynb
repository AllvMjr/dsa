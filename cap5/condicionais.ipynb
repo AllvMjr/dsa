{
 "cells": [
  {
   "cell_type": "code",
   "execution_count": 1,
   "id": "042ec168",
   "metadata": {},
   "outputs": [
    {
     "name": "stdout",
     "output_type": "stream",
     "text": [
      "A sentença é verdadeira\n"
     ]
    }
   ],
   "source": [
    "#Condicional If\n",
    "if 5 > 2:\n",
    "    print(\"A sentença é verdadeira\")"
   ]
  },
  {
   "cell_type": "code",
   "execution_count": null,
   "id": "7aacf990",
   "metadata": {},
   "outputs": [],
   "source": [
    "#Conficional if ..else\n",
    "if 5 < 2 :\n",
    "    print(\"Sentença verdadeira\")\n",
    "else:\n",
    "    print(\"Sentença falsa\")"
   ]
  },
  {
   "cell_type": "code",
   "execution_count": null,
   "id": "b93170ba",
   "metadata": {},
   "outputs": [],
   "source": [
    "#Condicional if..else com variavel\n",
    "dia = \"Terça\"\n",
    "if dia ==\"Segunda\":\n",
    "    print('Hoje fará sol')\n",
    "else:\n",
    "    print(\"Hoje vai chover\")"
   ]
  },
  {
   "cell_type": "code",
   "execution_count": null,
   "id": "7737eda5",
   "metadata": {},
   "outputs": [],
   "source": [
    "#Podemos utilizar o operador elif para validar mais de uma condição\n",
    "if dia == \"Segunda\":\n",
    "    print(\"Hoje fará sol\")\n",
    "elif dia == \"Terça\":\n",
    "    print(\"Hoje vai chover\")\n",
    "else:\n",
    "    print('Sem previsão do tempo para o dia selecionado')"
   ]
  },
  {
   "cell_type": "markdown",
   "id": "077e5cea",
   "metadata": {},
   "source": [
    "### Operadores Relacionais"
   ]
  },
  {
   "cell_type": "code",
   "execution_count": null,
   "id": "89583f2e",
   "metadata": {},
   "outputs": [],
   "source": [
    "6 > 3"
   ]
  },
  {
   "cell_type": "code",
   "execution_count": null,
   "id": "4e093488",
   "metadata": {},
   "outputs": [],
   "source": [
    "3 > 7"
   ]
  },
  {
   "cell_type": "code",
   "execution_count": null,
   "id": "2e191f39",
   "metadata": {},
   "outputs": [],
   "source": [
    "4 < 8"
   ]
  },
  {
   "cell_type": "code",
   "execution_count": null,
   "id": "a488fbd0",
   "metadata": {},
   "outputs": [],
   "source": [
    "4 >= 4"
   ]
  },
  {
   "cell_type": "code",
   "execution_count": null,
   "id": "673ef4d5",
   "metadata": {},
   "outputs": [],
   "source": [
    "if 5 == 5:\n",
    "    print(\"Testando Paython\")"
   ]
  },
  {
   "cell_type": "code",
   "execution_count": null,
   "id": "ac1ab557",
   "metadata": {},
   "outputs": [],
   "source": [
    "if True:\n",
    "    print(\"Parece que python funciona\")"
   ]
  },
  {
   "cell_type": "code",
   "execution_count": 2,
   "id": "bcb8198e",
   "metadata": {},
   "outputs": [
    {
     "name": "stdout",
     "output_type": "stream",
     "text": [
      "Tudo funciona\n"
     ]
    }
   ],
   "source": [
    "#Atenção com a sintaxe\n",
    "if 4 > 3:\n",
    "    print('Tudo funciona')"
   ]
  },
  {
   "cell_type": "markdown",
   "id": "461fabbc",
   "metadata": {},
   "source": [
    "### Condicionais Aninhados"
   ]
  },
  {
   "cell_type": "code",
   "execution_count": null,
   "id": "5e0971fd",
   "metadata": {},
   "outputs": [],
   "source": [
    "idade = 18\n",
    "if idade > 17:\n",
    "    print(\"Você pode dirigir\")"
   ]
  },
  {
   "cell_type": "code",
   "execution_count": null,
   "id": "3c138373",
   "metadata": {},
   "outputs": [],
   "source": [
    "Nome = \"Bob\"\n",
    "if idade > 13:\n",
    "    if Nome == \"Bob\":\n",
    "        print(\"Ok, Bob, você está autorizado a dirigir\")\n",
    "    else:\n",
    "        print(\"Descilpe, você não está autorizado a dirigir\")"
   ]
  },
  {
   "cell_type": "code",
   "execution_count": null,
   "id": "63c021e1",
   "metadata": {},
   "outputs": [],
   "source": [
    "idade = 13:\n",
    "Nome = \"Bob\"\n",
    "if idade >= 13 and Nome == \"Bob\":\n",
    "    print(\"Ok Bob, voce está autiorizado\")"
   ]
  },
  {
   "cell_type": "code",
   "execution_count": null,
   "id": "46fc6979",
   "metadata": {},
   "outputs": [],
   "source": []
  },
  {
   "cell_type": "code",
   "execution_count": null,
   "id": "a8e24d11",
   "metadata": {},
   "outputs": [],
   "source": []
  },
  {
   "cell_type": "code",
   "execution_count": null,
   "id": "1f4ec285",
   "metadata": {},
   "outputs": [],
   "source": []
  }
 ],
 "metadata": {
  "kernelspec": {
   "display_name": "Python 3 (ipykernel)",
   "language": "python",
   "name": "python3"
  },
  "language_info": {
   "codemirror_mode": {
    "name": "ipython",
    "version": 3
   },
   "file_extension": ".py",
   "mimetype": "text/x-python",
   "name": "python",
   "nbconvert_exporter": "python",
   "pygments_lexer": "ipython3",
   "version": "3.10.12"
  }
 },
 "nbformat": 4,
 "nbformat_minor": 5
}
