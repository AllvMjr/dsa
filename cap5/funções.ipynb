{
 "cells": [
  {
   "cell_type": "code",
   "execution_count": 1,
   "id": "75d73276",
   "metadata": {},
   "outputs": [
    {
     "name": "stdout",
     "output_type": "stream",
     "text": [
      "Versão do python é:  3.10.12\n"
     ]
    }
   ],
   "source": [
    "#importando as classes do python_version\n",
    "from platform import python_version\n",
    "print(\"Versão do python é: \", python_version())"
   ]
  },
  {
   "cell_type": "code",
   "execution_count": 5,
   "id": "ece7bbb0",
   "metadata": {},
   "outputs": [
    {
     "name": "stdout",
     "output_type": "stream",
     "text": [
      "Hello world\n"
     ]
    }
   ],
   "source": [
    "print(\"Hello world\")"
   ]
  },
  {
   "cell_type": "code",
   "execution_count": 6,
   "id": "3eaab5a6",
   "metadata": {},
   "outputs": [],
   "source": [
    "#Definindo uma função\n",
    "def primeiraFunc():\n",
    "    nome = 'Bob'\n",
    "    print('Hello %s '%(nome))"
   ]
  },
  {
   "cell_type": "code",
   "execution_count": 7,
   "id": "6f675517",
   "metadata": {},
   "outputs": [
    {
     "name": "stdout",
     "output_type": "stream",
     "text": [
      "Hello Bob \n"
     ]
    }
   ],
   "source": [
    "primeiraFunc()"
   ]
  },
  {
   "cell_type": "code",
   "execution_count": 9,
   "id": "78557539",
   "metadata": {},
   "outputs": [],
   "source": [
    "#Definindo a segunda função\n",
    "def segundaFunc(nome):\n",
    "    print(\"Hello %s\" %(nome))"
   ]
  },
  {
   "cell_type": "code",
   "execution_count": 10,
   "id": "e7c5f50c",
   "metadata": {},
   "outputs": [
    {
     "name": "stdout",
     "output_type": "stream",
     "text": [
      "Hello Alvaro\n"
     ]
    }
   ],
   "source": [
    "#usando a Segunda função\n",
    "segundaFunc('Alvaro')"
   ]
  },
  {
   "cell_type": "code",
   "execution_count": 11,
   "id": "1cee7a6f",
   "metadata": {},
   "outputs": [],
   "source": [
    "#Função para imprimir numeros\n",
    "def imprimeNumeros():\n",
    "    #loop\n",
    "    for i in range(0, 11):\n",
    "        print(\"Número \" + str(i))"
   ]
  },
  {
   "cell_type": "code",
   "execution_count": 12,
   "id": "a0e22d77",
   "metadata": {},
   "outputs": [
    {
     "name": "stdout",
     "output_type": "stream",
     "text": [
      "Número 0\n",
      "Número 1\n",
      "Número 2\n",
      "Número 3\n",
      "Número 4\n",
      "Número 5\n",
      "Número 6\n",
      "Número 7\n",
      "Número 8\n",
      "Número 9\n",
      "Número 10\n"
     ]
    }
   ],
   "source": [
    "imprimeNumeros()"
   ]
  },
  {
   "cell_type": "code",
   "execution_count": 15,
   "id": "cdbbdf13",
   "metadata": {},
   "outputs": [],
   "source": [
    "#Função para somar os numeros\n",
    "def addNum(firstnum, secondnum):\n",
    "    print(\"Primeiro número: \", firstnum)\n",
    "    print(\"Segundo número: \", secondnum)\n",
    "    print(\"Soma: \", firstnum + secondnum)"
   ]
  },
  {
   "cell_type": "code",
   "execution_count": 16,
   "id": "f48136e3",
   "metadata": {},
   "outputs": [
    {
     "name": "stdout",
     "output_type": "stream",
     "text": [
      "Primeiro número:  4\n",
      "Segundo número:  4\n",
      "Soma:  8\n"
     ]
    }
   ],
   "source": [
    "addNum(4, 4)"
   ]
  },
  {
   "cell_type": "code",
<<<<<<< HEAD
   "execution_count": null,
   "id": "0ff74471",
   "metadata": {},
   "outputs": [],
   "source": []
=======
   "execution_count": 1,
   "id": "0ff74471",
   "metadata": {},
   "outputs": [],
   "source": [
    "# Funções com nṹmero variável de argumentos\n",
    "def printVarInfo(arg1, *vartuple):\n",
    "    #imprimindo o valor do primeiro argumento\n",
    "    print(\"O parâmetro passado foi: \", arg1)\n",
    "    \n",
    "    #imprimindo o segundo argumento\n",
    "    for item in vartuple:\n",
    "        print(\"O valor passado foi: \", item)\n",
    "    return;"
   ]
  },
  {
   "cell_type": "code",
   "execution_count": 2,
   "id": "62ddbeee",
   "metadata": {},
   "outputs": [
    {
     "name": "stdout",
     "output_type": "stream",
     "text": [
      "O parâmetro passado foi:  10\n"
     ]
    }
   ],
   "source": [
    "#Fazendo chamada à função usando apenas 1 argumento\n",
    "printVarInfo(10)"
   ]
  },
  {
   "cell_type": "code",
   "execution_count": 3,
   "id": "4b133760",
   "metadata": {},
   "outputs": [
    {
     "name": "stdout",
     "output_type": "stream",
     "text": [
      "O parâmetro passado foi:  Chocolate\n",
      "O valor passado foi:  Morango\n"
     ]
    }
   ],
   "source": [
    "printVarInfo(\"Chocolate\", 'Morango')"
   ]
  },
  {
   "cell_type": "code",
   "execution_count": 4,
   "id": "cf7ac8d1",
   "metadata": {},
   "outputs": [
    {
     "name": "stdout",
     "output_type": "stream",
     "text": [
      "O parâmetro passado foi:  Data\n",
      "O valor passado foi:  Science\n",
      "O valor passado foi:  Academy\n"
     ]
    }
   ],
   "source": [
    "printVarInfo(\"Data\", \"Science\", \"Academy\")"
   ]
>>>>>>> 75a917c (expressao_lmbda e list comprehension)
  }
 ],
 "metadata": {
  "kernelspec": {
   "display_name": "Python 3 (ipykernel)",
   "language": "python",
   "name": "python3"
  },
  "language_info": {
   "codemirror_mode": {
    "name": "ipython",
    "version": 3
   },
   "file_extension": ".py",
   "mimetype": "text/x-python",
   "name": "python",
   "nbconvert_exporter": "python",
   "pygments_lexer": "ipython3",
   "version": "3.10.12"
  }
 },
 "nbformat": 4,
 "nbformat_minor": 5
}
