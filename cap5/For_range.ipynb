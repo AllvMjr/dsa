{
 "cells": [
  {
   "cell_type": "markdown",
   "id": "1c1e9c5c",
   "metadata": {},
   "source": [
    "# Intervalos e valores"
   ]
  },
  {
   "cell_type": "markdown",
   "id": "27f816cf",
   "metadata": {},
   "source": [
    "Função Range"
   ]
  },
  {
   "cell_type": "code",
   "execution_count": null,
   "id": "91f2c6a4",
   "metadata": {},
   "outputs": [],
   "source": [
    "# Imprimindo números de 1  10\n",
    "for i in range(0, 11):\n",
    "    print(i)"
   ]
  },
  {
   "cell_type": "code",
   "execution_count": null,
   "id": "f6cf614e",
   "metadata": {},
   "outputs": [],
   "source": [
    "# imprimindo números pares entre 50 a 101\n",
    "for i in range(50, 101, 2):\n",
    "    print(i)"
   ]
  },
  {
   "cell_type": "code",
   "execution_count": null,
   "id": "dae65b16",
   "metadata": {},
   "outputs": [],
   "source": [
    "#imprimindo os números pares negativos entre a a -20\n",
    "for i in range(0, -20, -2):\n",
    "    print(i)"
   ]
  },
  {
   "cell_type": "code",
   "execution_count": null,
   "id": "a623ef47",
   "metadata": {},
   "outputs": [],
   "source": [
    "#Usando o tamanho de uma lista na função range()\n",
    "lista = ['Abacaxi', 'Banana', 'Morango', 'Uva']\n",
    "lista_tamanho = len(lista)\n",
    "for i in range(0, lista_tamanho):\n",
    "    print(lista[i])"
   ]
  }
 ],
 "metadata": {
  "kernelspec": {
   "display_name": "Python 3 (ipykernel)",
   "language": "python",
   "name": "python3"
  },
  "language_info": {
   "codemirror_mode": {
    "name": "ipython",
    "version": 3
   },
   "file_extension": ".py",
   "mimetype": "text/x-python",
   "name": "python",
   "nbconvert_exporter": "python",
   "pygments_lexer": "ipython3",
   "version": "3.10.12"
  }
 },
 "nbformat": 4,
 "nbformat_minor": 5
}
