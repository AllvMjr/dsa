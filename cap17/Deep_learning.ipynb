{
  "nbformat": 4,
  "nbformat_minor": 0,
  "metadata": {
    "colab": {
      "provenance": []
    },
    "kernelspec": {
      "name": "python3",
      "display_name": "Python 3"
    },
    "language_info": {
      "name": "python"
    }
  },
  "cells": [
    {
      "cell_type": "markdown",
      "source": [
        "Deep **Learnig**"
      ],
      "metadata": {
        "id": "aNySYk8Kwnrl"
      }
    },
    {
      "cell_type": "code",
      "source": [
        "#Importações\n",
        "import tensorflow as tf\n",
        "from tensorflow.keras import datasets, layers, models\n",
        "import matplotlib.pyplot as plt\n",
        "import numpy as np\n",
        "from PIL import Image"
      ],
      "metadata": {
        "id": "IYSBFkCnxQnw"
      },
      "execution_count": 1,
      "outputs": []
    },
    {
      "cell_type": "markdown",
      "source": [
        "**Carregando os Dados**"
      ],
      "metadata": {
        "id": "bP0vGywlylDn"
      }
    },
    {
      "cell_type": "code",
      "source": [
        "#Carrega o dataset CIFAR-10\n",
        "(imagens_treino, labels_treino), (imagens_teste, labels_teste) = datasets.cifar10.load_data()"
      ],
      "metadata": {
        "id": "q44Y87sPyrn1",
        "colab": {
          "base_uri": "https://localhost:8080/"
        },
        "outputId": "f9813230-4f59-4194-8b63-2a67693de263"
      },
      "execution_count": 6,
      "outputs": [
        {
          "output_type": "stream",
          "name": "stdout",
          "text": [
            "Downloading data from https://www.cs.toronto.edu/~kriz/cifar-10-python.tar.gz\n",
            "170498071/170498071 [==============================] - 2s 0us/step\n"
          ]
        }
      ]
    },
    {
      "cell_type": "code",
      "source": [
        "# Classes das imagens\n",
        "nomes_classes = ['airplane', 'automobile', 'bird', 'cat', 'deer', 'dog', 'frog', 'horse', 'ship', 'truck']"
      ],
      "metadata": {
        "id": "Ld5KP-x58IS1"
      },
      "execution_count": 7,
      "outputs": []
    },
    {
      "cell_type": "markdown",
      "source": [
        "## Pré-Processamento e Visualização das Imagens"
      ],
      "metadata": {
        "id": "dzRP-9di8kPN"
      }
    },
    {
      "cell_type": "code",
      "source": [
        "#Normaliza os valores dos pixels para qie os dados fiquem na mesma escala\n",
        "imagens_treino = imagens_treino / 255.0\n",
        "imagens_teste = imagens_teste / 255.0"
      ],
      "metadata": {
        "id": "7MWaw4xb8sPs"
      },
      "execution_count": 8,
      "outputs": []
    },
    {
      "cell_type": "code",
      "source": [
        "# Função para exibir as imagens\n",
        "def visualiza_imagens(images, labels):\n",
        "  plt.figure(figsize = (10, 10))\n",
        "  for i in range(25):\n",
        "    plt.subplot(5, 5, i+1)\n",
        "    plt.xticks([])\n",
        "    plt.yticks([])\n",
        "    plt.grid(False)\n",
        "    plt.imshow(images[i], cmap = plt.cm.binary)\n",
        "    plt.xlabel(nomes_classes[labels[i][0]])\n",
        "  plt.show()"
      ],
      "metadata": {
        "id": "TbvJiNki877F"
      },
      "execution_count": 9,
      "outputs": []
    },
    {
      "cell_type": "code",
      "source": [
        "# Exceuta a função\n",
        "visualiza_imagens(imagens_treino, labels_treino)"
      ],
      "metadata": {
        "id": "sqQuNizJ-7_c"
      },
      "execution_count": null,
      "outputs": []
    },
    {
      "cell_type": "markdown",
      "source": [
        "### Construção do Modelo"
      ],
      "metadata": {
        "id": "Y1lOB_MrjMsP"
      }
    },
    {
      "cell_type": "code",
      "source": [
        "# Modelo\n",
        "\n",
        "#cria o onjeto de sequência de camadas\n",
        "modelo = models.Sequential()\n",
        "\n",
        "#Adiciona o primeiro bloco de convolyção e max pooling (Camada de entrada)\n",
        "modelo.add(layers.Conv2D(32, (3, 3), activation = 'relu', input_shape = (32, 32, 3)))\n",
        "modelo.add(layers.MaxPool2D((2, 2)))\n",
        "\n",
        "# Adicona o segundo plobo de  convolução e max polling (camada intermediária)\n",
        "modelo.add(layers.Conv2D(64, (3, 3), activation = 'relu'))\n",
        "modelo.add(layers.MaxPool2D((2, 2)))\n",
        "\n",
        "# Adiciona o terceiro bloco de convolução e max pooling (camada )\n",
        "modelo.add(layers.Conv2D(64, (3, 3), activation = 'relu'))\n",
        "modelo.add(layers.MaxPool2D((2, 2)))"
      ],
      "metadata": {
        "id": "tmyK4WaejWn2"
      },
      "execution_count": 11,
      "outputs": []
    },
    {
      "cell_type": "code",
      "source": [
        "#Adicionar camadas de classificação\n",
        "modelo.add(layers.Flatten())\n",
        "modelo.add(layers.Dense(64, activation = 'relu'))\n",
        "modelo.add(layers.Dense(10, activation = 'softmax'))"
      ],
      "metadata": {
        "id": "BlBNSXeMlQ8i"
      },
      "execution_count": 12,
      "outputs": []
    },
    {
      "cell_type": "code",
      "source": [
        "#sumario do modelo\n",
        "modelo.summary()"
      ],
      "metadata": {
        "colab": {
          "base_uri": "https://localhost:8080/"
        },
        "id": "rznayre_l0zS",
        "outputId": "19975d57-3971-42a5-8030-7951ce303f53"
      },
      "execution_count": 13,
      "outputs": [
        {
          "output_type": "stream",
          "name": "stdout",
          "text": [
            "Model: \"sequential_3\"\n",
            "_________________________________________________________________\n",
            " Layer (type)                Output Shape              Param #   \n",
            "=================================================================\n",
            " conv2d_5 (Conv2D)           (None, 30, 30, 32)        896       \n",
            "                                                                 \n",
            " max_pooling2d_3 (MaxPoolin  (None, 15, 15, 32)        0         \n",
            " g2D)                                                            \n",
            "                                                                 \n",
            " conv2d_6 (Conv2D)           (None, 13, 13, 64)        18496     \n",
            "                                                                 \n",
            " max_pooling2d_4 (MaxPoolin  (None, 6, 6, 64)          0         \n",
            " g2D)                                                            \n",
            "                                                                 \n",
            " conv2d_7 (Conv2D)           (None, 4, 4, 64)          36928     \n",
            "                                                                 \n",
            " max_pooling2d_5 (MaxPoolin  (None, 2, 2, 64)          0         \n",
            " g2D)                                                            \n",
            "                                                                 \n",
            " flatten_1 (Flatten)         (None, 256)               0         \n",
            "                                                                 \n",
            " dense_2 (Dense)             (None, 64)                16448     \n",
            "                                                                 \n",
            " dense_3 (Dense)             (None, 10)                650       \n",
            "                                                                 \n",
            "=================================================================\n",
            "Total params: 73418 (286.79 KB)\n",
            "Trainable params: 73418 (286.79 KB)\n",
            "Non-trainable params: 0 (0.00 Byte)\n",
            "_________________________________________________________________\n"
          ]
        }
      ]
    },
    {
      "cell_type": "code",
      "source": [
        "# Compilação do modelo\n",
        "modelo.compile(optimizer = 'adam',\n",
        "               loss = 'sparse_categorical_crossentropy',\n",
        "               metrics = ['accuracy'])"
      ],
      "metadata": {
        "id": "3g6ATjcVnTE2"
      },
      "execution_count": 16,
      "outputs": []
    },
    {
      "cell_type": "code",
      "source": [
        "%%time\n",
        "history = modelo.fit(imagens_treino,\n",
        "                     labels_treino,\n",
        "                     epochs = 10,\n",
        "                     validation_data = (imagens_teste, labels_teste))"
      ],
      "metadata": {
        "colab": {
          "base_uri": "https://localhost:8080/"
        },
        "id": "Me-Zs3ibnk8R",
        "outputId": "27c8babe-08d2-4a76-c6aa-4a454d6ec1d0"
      },
      "execution_count": 17,
      "outputs": [
        {
          "output_type": "stream",
          "name": "stdout",
          "text": [
            "Epoch 1/10\n",
            "1563/1563 [==============================] - 63s 40ms/step - loss: 1.5672 - accuracy: 0.4261 - val_loss: 1.3595 - val_accuracy: 0.5173\n",
            "Epoch 2/10\n",
            "1563/1563 [==============================] - 58s 37ms/step - loss: 1.2052 - accuracy: 0.5725 - val_loss: 1.1007 - val_accuracy: 0.6045\n",
            "Epoch 3/10\n",
            "1563/1563 [==============================] - 59s 38ms/step - loss: 1.0523 - accuracy: 0.6315 - val_loss: 1.0147 - val_accuracy: 0.6466\n",
            "Epoch 4/10\n",
            "1563/1563 [==============================] - 56s 36ms/step - loss: 0.9502 - accuracy: 0.6667 - val_loss: 0.9410 - val_accuracy: 0.6700\n",
            "Epoch 5/10\n",
            "1563/1563 [==============================] - 57s 36ms/step - loss: 0.8719 - accuracy: 0.6952 - val_loss: 0.9023 - val_accuracy: 0.6849\n",
            "Epoch 6/10\n",
            "1563/1563 [==============================] - 58s 37ms/step - loss: 0.8171 - accuracy: 0.7159 - val_loss: 0.9106 - val_accuracy: 0.6888\n",
            "Epoch 7/10\n",
            "1563/1563 [==============================] - 57s 37ms/step - loss: 0.7704 - accuracy: 0.7305 - val_loss: 0.9312 - val_accuracy: 0.6771\n",
            "Epoch 8/10\n",
            "1563/1563 [==============================] - 55s 35ms/step - loss: 0.7368 - accuracy: 0.7445 - val_loss: 0.8628 - val_accuracy: 0.7056\n",
            "Epoch 9/10\n",
            "1563/1563 [==============================] - 71s 46ms/step - loss: 0.7004 - accuracy: 0.7543 - val_loss: 0.8972 - val_accuracy: 0.6914\n",
            "Epoch 10/10\n",
            "1563/1563 [==============================] - 60s 38ms/step - loss: 0.6732 - accuracy: 0.7631 - val_loss: 0.8513 - val_accuracy: 0.7077\n",
            "CPU times: user 14min 48s, sys: 18.6 s, total: 15min 6s\n",
            "Wall time: 10min 24s\n"
          ]
        }
      ]
    },
    {
      "cell_type": "markdown",
      "source": [
        "### Avaliação do Modelo"
      ],
      "metadata": {
        "id": "MRCs-5Baq0qw"
      }
    },
    {
      "cell_type": "code",
      "source": [
        "# Avalia o modelo\n",
        "erro_teste, acc_teste = modelo.evaluate(imagens_teste, labels_teste, verbose = 2)"
      ],
      "metadata": {
        "colab": {
          "base_uri": "https://localhost:8080/"
        },
        "id": "JSEObqgXq3OL",
        "outputId": "1b03b0bc-c7b6-4a86-b1dd-f183a6bb0e6e"
      },
      "execution_count": 18,
      "outputs": [
        {
          "output_type": "stream",
          "name": "stdout",
          "text": [
            "313/313 - 3s - loss: 0.8513 - accuracy: 0.7077 - 3s/epoch - 8ms/step\n"
          ]
        }
      ]
    },
    {
      "cell_type": "code",
      "source": [
        "print('Acurácia com dados de teste :', acc_teste)"
      ],
      "metadata": {
        "colab": {
          "base_uri": "https://localhost:8080/"
        },
        "id": "fw13Y2uFq_XR",
        "outputId": "ae6a11c2-0ec2-492d-d429-d9567a43992d"
      },
      "execution_count": 19,
      "outputs": [
        {
          "output_type": "stream",
          "name": "stdout",
          "text": [
            "Acurácia com dados de teste : 0.7077000141143799\n"
          ]
        }
      ]
    },
    {
      "cell_type": "markdown",
      "source": [
        "### Deploy"
      ],
      "metadata": {
        "id": "zH19lUUOuEna"
      }
    },
    {
      "cell_type": "code",
      "source": [
        "# Carrega uma nova imagem\n",
        "nova_imagem = Image.open('nova_imagem.jpg')"
      ],
      "metadata": {
        "id": "FH3u48YKuGD0"
      },
      "execution_count": 20,
      "outputs": []
    },
    {
      "cell_type": "code",
      "source": [
        "# Dimensões da imagem (em pixels)\n",
        "nova_imagem.size"
      ],
      "metadata": {
        "colab": {
          "base_uri": "https://localhost:8080/"
        },
        "id": "WXvmjes1ucn3",
        "outputId": "d462b1d5-ab2c-4535-9a95-dcad596fbd99"
      },
      "execution_count": 21,
      "outputs": [
        {
          "output_type": "execute_result",
          "data": {
            "text/plain": [
              "(1919, 1199)"
            ]
          },
          "metadata": {},
          "execution_count": 21
        }
      ]
    },
    {
      "cell_type": "code",
      "source": [
        "# Obtém Largura e altura da imagem\n",
        "largura = nova_imagem.width\n",
        "altura = nova_imagem.height"
      ],
      "metadata": {
        "id": "idD4UVR4umHZ"
      },
      "execution_count": 23,
      "outputs": []
    },
    {
      "cell_type": "code",
      "source": [
        "print('A largura da imagem é: ', largura)\n",
        "print('A altura da imagem é: ', altura)"
      ],
      "metadata": {
        "colab": {
          "base_uri": "https://localhost:8080/"
        },
        "id": "FSxJHo0Hu1eW",
        "outputId": "b56e7780-590c-4570-e2c0-e5aa4a7a1b78"
      },
      "execution_count": 24,
      "outputs": [
        {
          "output_type": "stream",
          "name": "stdout",
          "text": [
            "A largura da imagem é:  1919\n",
            "A altura da imagem é:  1199\n"
          ]
        }
      ]
    },
    {
      "cell_type": "code",
      "source": [
        "# Redimensiona para 32X32\n",
        "nova_imagem = nova_imagem.resize((32, 32))"
      ],
      "metadata": {
        "id": "13PImupbu-2d"
      },
      "execution_count": 25,
      "outputs": []
    },
    {
      "cell_type": "code",
      "source": [
        "# Exibir a imagem\n",
        "plt.figure(figsize = (1, 1))\n",
        "plt.imshow(nova_imagem)\n",
        "plt.xticks([])\n",
        "plt.yticks([])\n",
        "plt.show()"
      ],
      "metadata": {
        "colab": {
          "base_uri": "https://localhost:8080/",
          "height": 114
        },
        "id": "xn5JLyTovHEb",
        "outputId": "28d0da55-d7b5-4d21-a544-94afa5a033bc"
      },
      "execution_count": 26,
      "outputs": [
        {
          "output_type": "display_data",
          "data": {
            "text/plain": [
              "<Figure size 100x100 with 1 Axes>"
            ],
            "image/png": "[encoded data removed]"
          },
          "metadata": {}
        }
      ]
    },
    {
      "cell_type": "code",
      "source": [
        "# converte a imagem para um array numpy e normaliza\n",
        "nova_imagem_array = np.array(nova_imagem) / 255.0"
      ],
      "metadata": {
        "id": "c6wJBctcwJLE"
      },
      "execution_count": 27,
      "outputs": []
    },
    {
      "cell_type": "code",
      "source": [
        "# Expande a dimensão do array para que ele tenha o formato (1, 32, 32, 3)\n",
        "nova_imagem_array = np.expand_dims(nova_imagem_array, axis = 0)"
      ],
      "metadata": {
        "id": "nTnWioA7wS3G"
      },
      "execution_count": 28,
      "outputs": []
    },
    {
      "cell_type": "code",
      "source": [
        "# Previsões\n",
        "previsoes = modelo.predict(nova_imagem_array)"
      ],
      "metadata": {
        "colab": {
          "base_uri": "https://localhost:8080/"
        },
        "id": "s8_P0GV0wcka",
        "outputId": "4d61a14b-539a-462b-ac9c-e2c6a2c6ff6e"
      },
      "execution_count": 29,
      "outputs": [
        {
          "output_type": "stream",
          "name": "stdout",
          "text": [
            "1/1 [==============================] - 0s 112ms/step\n"
          ]
        }
      ]
    },
    {
      "cell_type": "code",
      "source": [
        "print(previsoes)"
      ],
      "metadata": {
        "colab": {
          "base_uri": "https://localhost:8080/"
        },
        "id": "Ljz3GCY3wlie",
        "outputId": "9bf002b3-27f3-40fd-8699-6fb2695723ed"
      },
      "execution_count": 30,
      "outputs": [
        {
          "output_type": "stream",
          "name": "stdout",
          "text": [
            "[[5.22880058e-04 9.84556079e-01 1.07691645e-04 5.78506661e-06\n",
            "  7.33795957e-07 1.13639599e-05 9.86104642e-05 3.27237103e-06\n",
            "  1.08834484e-03 1.36052454e-02]]\n"
          ]
        }
      ]
    },
    {
      "cell_type": "code",
      "source": [
        "# Obtem a classe com maior probabilidade e o nome da classe\n",
        "classe_previsao = np.argmax(previsoes)\n",
        "nome_classe = nomes_classes[classe_previsao]"
      ],
      "metadata": {
        "id": "g-WCDd7Pw0hx"
      },
      "execution_count": 31,
      "outputs": []
    },
    {
      "cell_type": "code",
      "source": [
        "print('A  nova imagem foi classificada como: ', classe_previsao)\n",
        "print('A nova imagem foi classificada como: ', nome_classe)"
      ],
      "metadata": {
        "colab": {
          "base_uri": "https://localhost:8080/"
        },
        "id": "ZNMJBsA-w_x4",
        "outputId": "1386c186-cbeb-4b39-bcb8-d961ac184444"
      },
      "execution_count": 32,
      "outputs": [
        {
          "output_type": "stream",
          "name": "stdout",
          "text": [
            "A  nova imagem foi classificada como:  1\n",
            "A nova imagem foi classificada como:  automobile\n"
          ]
        }
      ]
    }
  ]
}