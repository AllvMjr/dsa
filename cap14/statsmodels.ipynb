{
 "cells": [
  {
   "cell_type": "markdown",
   "metadata": {},
   "source": [
    "## Análise estatística com Statsmodels\n",
    "\n",
    "### Problema de Negócio\n",
    "Existe alguma relação entre a área de imóveis (em metros quadrados) e o valor do aluguel de uma determinada cidade? Caso exista relação, como podemos mensurála?"
   ]
  },
  {
   "cell_type": "code",
   "execution_count": 1,
   "metadata": {},
   "outputs": [
    {
     "name": "stderr",
     "output_type": "stream",
     "text": [
      "/home/allvjr/.local/lib/python3.10/site-packages/pandas/core/computation/expressions.py:21: UserWarning: Pandas requires version '2.8.4' or newer of 'numexpr' (version '2.8.1' currently installed).\n",
      "  from pandas.core.computation.check import NUMEXPR_INSTALLED\n",
      "/home/allvjr/.local/lib/python3.10/site-packages/pandas/core/arrays/masked.py:60: UserWarning: Pandas requires version '1.3.6' or newer of 'bottleneck' (version '1.3.2' currently installed).\n",
      "  from pandas.core import (\n",
      "/usr/lib/python3/dist-packages/scipy/__init__.py:146: UserWarning: A NumPy version >=1.17.3 and <1.25.0 is required for this version of SciPy (detected version 1.26.4\n",
      "  warnings.warn(f\"A NumPy version >={np_minversion} and <{np_maxversion}\"\n"
     ]
    }
   ],
   "source": [
    "# importações\n",
    "import pandas as pd\n",
    "import matplotlib.pyplot as plt\n",
    "import seaborn as sns\n",
    "import statsmodels.api as sm"
   ]
  },
  {
   "cell_type": "markdown",
   "metadata": {},
   "source": [
    "### Carregando os dados\n"
   ]
  },
  {
   "cell_type": "code",
   "execution_count": 2,
   "metadata": {},
   "outputs": [],
   "source": [
    "# Carregando os dados\n",
    "df_dsa = pd.read_csv('dataset.csv')"
   ]
  },
  {
   "cell_type": "code",
   "execution_count": 4,
   "metadata": {},
   "outputs": [
    {
     "data": {
      "text/plain": [
       "(3000, 7)"
      ]
     },
     "execution_count": 4,
     "metadata": {},
     "output_type": "execute_result"
    }
   ],
   "source": [
    "df_dsa.shape"
   ]
  },
  {
   "cell_type": "code",
   "execution_count": 5,
   "metadata": {},
   "outputs": [
    {
     "data": {
      "text/plain": [
       "Index(['valor_aluguel', 'area_m2', 'ano_construcao', 'codigo_localidade',\n",
       "       'numero_banheiros', 'numero_cozinhas', 'codigo_bairro'],\n",
       "      dtype='object')"
      ]
     },
     "execution_count": 5,
     "metadata": {},
     "output_type": "execute_result"
    }
   ],
   "source": [
    "df_dsa.columns"
   ]
  },
  {
   "cell_type": "code",
   "execution_count": 6,
   "metadata": {},
   "outputs": [
    {
     "data": {
      "text/html": [
       "<div>\n",
       "<style scoped>\n",
       "    .dataframe tbody tr th:only-of-type {\n",
       "        vertical-align: middle;\n",
       "    }\n",
       "\n",
       "    .dataframe tbody tr th {\n",
       "        vertical-align: top;\n",
       "    }\n",
       "\n",
       "    .dataframe thead th {\n",
       "        text-align: right;\n",
       "    }\n",
       "</style>\n",
       "<table border=\"1\" class=\"dataframe\">\n",
       "  <thead>\n",
       "    <tr style=\"text-align: right;\">\n",
       "      <th></th>\n",
       "      <th>valor_aluguel</th>\n",
       "      <th>area_m2</th>\n",
       "      <th>ano_construcao</th>\n",
       "      <th>codigo_localidade</th>\n",
       "      <th>numero_banheiros</th>\n",
       "      <th>numero_cozinhas</th>\n",
       "      <th>codigo_bairro</th>\n",
       "    </tr>\n",
       "  </thead>\n",
       "  <tbody>\n",
       "    <tr>\n",
       "      <th>0</th>\n",
       "      <td>120.97436</td>\n",
       "      <td>35</td>\n",
       "      <td>1939</td>\n",
       "      <td>1</td>\n",
       "      <td>0</td>\n",
       "      <td>0</td>\n",
       "      <td>1112</td>\n",
       "    </tr>\n",
       "    <tr>\n",
       "      <th>1</th>\n",
       "      <td>436.97433</td>\n",
       "      <td>104</td>\n",
       "      <td>1939</td>\n",
       "      <td>1</td>\n",
       "      <td>1</td>\n",
       "      <td>0</td>\n",
       "      <td>1112</td>\n",
       "    </tr>\n",
       "    <tr>\n",
       "      <th>2</th>\n",
       "      <td>355.74360</td>\n",
       "      <td>29</td>\n",
       "      <td>1971</td>\n",
       "      <td>2</td>\n",
       "      <td>0</td>\n",
       "      <td>0</td>\n",
       "      <td>2114</td>\n",
       "    </tr>\n",
       "    <tr>\n",
       "      <th>3</th>\n",
       "      <td>282.92310</td>\n",
       "      <td>39</td>\n",
       "      <td>1972</td>\n",
       "      <td>2</td>\n",
       "      <td>0</td>\n",
       "      <td>0</td>\n",
       "      <td>2148</td>\n",
       "    </tr>\n",
       "    <tr>\n",
       "      <th>4</th>\n",
       "      <td>807.23080</td>\n",
       "      <td>97</td>\n",
       "      <td>1985</td>\n",
       "      <td>1</td>\n",
       "      <td>0</td>\n",
       "      <td>0</td>\n",
       "      <td>2222</td>\n",
       "    </tr>\n",
       "  </tbody>\n",
       "</table>\n",
       "</div>"
      ],
      "text/plain": [
       "   valor_aluguel  area_m2  ano_construcao  codigo_localidade  \\\n",
       "0      120.97436       35            1939                  1   \n",
       "1      436.97433      104            1939                  1   \n",
       "2      355.74360       29            1971                  2   \n",
       "3      282.92310       39            1972                  2   \n",
       "4      807.23080       97            1985                  1   \n",
       "\n",
       "   numero_banheiros  numero_cozinhas  codigo_bairro  \n",
       "0                 0                0           1112  \n",
       "1                 1                0           1112  \n",
       "2                 0                0           2114  \n",
       "3                 0                0           2148  \n",
       "4                 0                0           2222  "
      ]
     },
     "execution_count": 6,
     "metadata": {},
     "output_type": "execute_result"
    }
   ],
   "source": [
    "df_dsa.head()"
   ]
  },
  {
   "cell_type": "code",
   "execution_count": 7,
   "metadata": {},
   "outputs": [
    {
     "name": "stdout",
     "output_type": "stream",
     "text": [
      "<class 'pandas.core.frame.DataFrame'>\n",
      "RangeIndex: 3000 entries, 0 to 2999\n",
      "Data columns (total 7 columns):\n",
      " #   Column             Non-Null Count  Dtype  \n",
      "---  ------             --------------  -----  \n",
      " 0   valor_aluguel      3000 non-null   float64\n",
      " 1   area_m2            3000 non-null   int64  \n",
      " 2   ano_construcao     3000 non-null   int64  \n",
      " 3   codigo_localidade  3000 non-null   int64  \n",
      " 4   numero_banheiros   3000 non-null   int64  \n",
      " 5   numero_cozinhas    3000 non-null   int64  \n",
      " 6   codigo_bairro      3000 non-null   int64  \n",
      "dtypes: float64(1), int64(6)\n",
      "memory usage: 164.2 KB\n"
     ]
    }
   ],
   "source": [
    "df_dsa.info()"
   ]
  },
  {
   "cell_type": "markdown",
   "metadata": {},
   "source": [
    "### Análise Exploratória - Resumo Estatístico"
   ]
  },
  {
   "cell_type": "code",
   "execution_count": 9,
   "metadata": {},
   "outputs": [
    {
     "data": {
      "text/plain": [
       "valor_aluguel        0\n",
       "area_m2              0\n",
       "ano_construcao       0\n",
       "codigo_localidade    0\n",
       "numero_banheiros     0\n",
       "numero_cozinhas      0\n",
       "codigo_bairro        0\n",
       "dtype: int64"
      ]
     },
     "execution_count": 9,
     "metadata": {},
     "output_type": "execute_result"
    }
   ],
   "source": [
    "# Verifica se há valores ausentes\n",
    "df_dsa.isnull().sum()"
   ]
  },
  {
   "cell_type": "code",
   "execution_count": 8,
   "metadata": {},
   "outputs": [
    {
     "data": {
      "text/html": [
       "<div>\n",
       "<style scoped>\n",
       "    .dataframe tbody tr th:only-of-type {\n",
       "        vertical-align: middle;\n",
       "    }\n",
       "\n",
       "    .dataframe tbody tr th {\n",
       "        vertical-align: top;\n",
       "    }\n",
       "\n",
       "    .dataframe thead th {\n",
       "        text-align: right;\n",
       "    }\n",
       "</style>\n",
       "<table border=\"1\" class=\"dataframe\">\n",
       "  <thead>\n",
       "    <tr style=\"text-align: right;\">\n",
       "      <th></th>\n",
       "      <th>valor_aluguel</th>\n",
       "      <th>area_m2</th>\n",
       "      <th>ano_construcao</th>\n",
       "      <th>codigo_localidade</th>\n",
       "      <th>numero_banheiros</th>\n",
       "      <th>numero_cozinhas</th>\n",
       "      <th>codigo_bairro</th>\n",
       "    </tr>\n",
       "  </thead>\n",
       "  <tbody>\n",
       "    <tr>\n",
       "      <th>count</th>\n",
       "      <td>3000.000000</td>\n",
       "      <td>3000.000000</td>\n",
       "      <td>3000.000000</td>\n",
       "      <td>3000.000000</td>\n",
       "      <td>3000.000000</td>\n",
       "      <td>3000.000000</td>\n",
       "      <td>3000.000000</td>\n",
       "    </tr>\n",
       "    <tr>\n",
       "      <th>mean</th>\n",
       "      <td>459.643146</td>\n",
       "      <td>67.363333</td>\n",
       "      <td>1956.321333</td>\n",
       "      <td>1.441000</td>\n",
       "      <td>0.061333</td>\n",
       "      <td>0.042000</td>\n",
       "      <td>1173.798667</td>\n",
       "    </tr>\n",
       "    <tr>\n",
       "      <th>std</th>\n",
       "      <td>195.865692</td>\n",
       "      <td>23.675758</td>\n",
       "      <td>22.288136</td>\n",
       "      <td>0.545238</td>\n",
       "      <td>0.239981</td>\n",
       "      <td>0.200623</td>\n",
       "      <td>678.187690</td>\n",
       "    </tr>\n",
       "    <tr>\n",
       "      <th>min</th>\n",
       "      <td>40.512820</td>\n",
       "      <td>20.000000</td>\n",
       "      <td>1918.000000</td>\n",
       "      <td>1.000000</td>\n",
       "      <td>0.000000</td>\n",
       "      <td>0.000000</td>\n",
       "      <td>113.000000</td>\n",
       "    </tr>\n",
       "    <tr>\n",
       "      <th>25%</th>\n",
       "      <td>320.961530</td>\n",
       "      <td>51.000000</td>\n",
       "      <td>1939.000000</td>\n",
       "      <td>1.000000</td>\n",
       "      <td>0.000000</td>\n",
       "      <td>0.000000</td>\n",
       "      <td>561.750000</td>\n",
       "    </tr>\n",
       "    <tr>\n",
       "      <th>50%</th>\n",
       "      <td>426.897435</td>\n",
       "      <td>65.000000</td>\n",
       "      <td>1959.000000</td>\n",
       "      <td>1.000000</td>\n",
       "      <td>0.000000</td>\n",
       "      <td>0.000000</td>\n",
       "      <td>1025.000000</td>\n",
       "    </tr>\n",
       "    <tr>\n",
       "      <th>75%</th>\n",
       "      <td>560.282055</td>\n",
       "      <td>81.000000</td>\n",
       "      <td>1972.000000</td>\n",
       "      <td>2.000000</td>\n",
       "      <td>0.000000</td>\n",
       "      <td>0.000000</td>\n",
       "      <td>1714.000000</td>\n",
       "    </tr>\n",
       "    <tr>\n",
       "      <th>max</th>\n",
       "      <td>1843.384600</td>\n",
       "      <td>160.000000</td>\n",
       "      <td>1997.000000</td>\n",
       "      <td>3.000000</td>\n",
       "      <td>1.000000</td>\n",
       "      <td>1.000000</td>\n",
       "      <td>2529.000000</td>\n",
       "    </tr>\n",
       "  </tbody>\n",
       "</table>\n",
       "</div>"
      ],
      "text/plain": [
       "       valor_aluguel      area_m2  ano_construcao  codigo_localidade  \\\n",
       "count    3000.000000  3000.000000     3000.000000        3000.000000   \n",
       "mean      459.643146    67.363333     1956.321333           1.441000   \n",
       "std       195.865692    23.675758       22.288136           0.545238   \n",
       "min        40.512820    20.000000     1918.000000           1.000000   \n",
       "25%       320.961530    51.000000     1939.000000           1.000000   \n",
       "50%       426.897435    65.000000     1959.000000           1.000000   \n",
       "75%       560.282055    81.000000     1972.000000           2.000000   \n",
       "max      1843.384600   160.000000     1997.000000           3.000000   \n",
       "\n",
       "       numero_banheiros  numero_cozinhas  codigo_bairro  \n",
       "count       3000.000000      3000.000000    3000.000000  \n",
       "mean           0.061333         0.042000    1173.798667  \n",
       "std            0.239981         0.200623     678.187690  \n",
       "min            0.000000         0.000000     113.000000  \n",
       "25%            0.000000         0.000000     561.750000  \n",
       "50%            0.000000         0.000000    1025.000000  \n",
       "75%            0.000000         0.000000    1714.000000  \n",
       "max            1.000000         1.000000    2529.000000  "
      ]
     },
     "execution_count": 8,
     "metadata": {},
     "output_type": "execute_result"
    }
   ],
   "source": [
    "# Resumo estatístico do dataset - ATENÇÃO\n",
    "df_dsa.describe()"
   ]
  },
  {
   "cell_type": "code",
   "execution_count": 10,
   "metadata": {},
   "outputs": [
    {
     "data": {
      "text/plain": [
       "count    3000.000000\n",
       "mean      459.643146\n",
       "std       195.865692\n",
       "min        40.512820\n",
       "25%       320.961530\n",
       "50%       426.897435\n",
       "75%       560.282055\n",
       "max      1843.384600\n",
       "Name: valor_aluguel, dtype: float64"
      ]
     },
     "execution_count": 10,
     "metadata": {},
     "output_type": "execute_result"
    }
   ],
   "source": [
    "# Resumo estatístico da variável alvo (variavel resposta)\n",
    "df_dsa[\"valor_aluguel\"].describe()"
   ]
  },
  {
   "cell_type": "code",
   "execution_count": 11,
   "metadata": {},
   "outputs": [
    {
     "data": {
      "text/plain": [
       "<Axes: xlabel='valor_aluguel', ylabel='Count'>"
      ]
     },
     "execution_count": 11,
     "metadata": {},
     "output_type": "execute_result"
    },
    {
     "data": {
      "image/png": "[encoded data removed]",
      "text/plain": [
       "<Figure size 432x288 with 1 Axes>"
      ]
     },
     "metadata": {
      "needs_background": "light"
     },
     "output_type": "display_data"
    }
   ],
   "source": [
    "# Histograma da variável alvo\n",
    "sns.histplot(data = df_dsa, x = 'valor_aluguel', kde = True)"
   ]
  },
  {
   "cell_type": "code",
   "execution_count": 12,
   "metadata": {},
   "outputs": [
    {
     "data": {
      "text/html": [
       "<div>\n",
       "<style scoped>\n",
       "    .dataframe tbody tr th:only-of-type {\n",
       "        vertical-align: middle;\n",
       "    }\n",
       "\n",
       "    .dataframe tbody tr th {\n",
       "        vertical-align: top;\n",
       "    }\n",
       "\n",
       "    .dataframe thead th {\n",
       "        text-align: right;\n",
       "    }\n",
       "</style>\n",
       "<table border=\"1\" class=\"dataframe\">\n",
       "  <thead>\n",
       "    <tr style=\"text-align: right;\">\n",
       "      <th></th>\n",
       "      <th>valor_aluguel</th>\n",
       "      <th>area_m2</th>\n",
       "      <th>ano_construcao</th>\n",
       "      <th>codigo_localidade</th>\n",
       "      <th>numero_banheiros</th>\n",
       "      <th>numero_cozinhas</th>\n",
       "      <th>codigo_bairro</th>\n",
       "    </tr>\n",
       "  </thead>\n",
       "  <tbody>\n",
       "    <tr>\n",
       "      <th>valor_aluguel</th>\n",
       "      <td>1.000000</td>\n",
       "      <td>0.584878</td>\n",
       "      <td>0.139194</td>\n",
       "      <td>0.172368</td>\n",
       "      <td>0.250261</td>\n",
       "      <td>0.170707</td>\n",
       "      <td>-0.020846</td>\n",
       "    </tr>\n",
       "    <tr>\n",
       "      <th>area_m2</th>\n",
       "      <td>0.584878</td>\n",
       "      <td>1.000000</td>\n",
       "      <td>-0.226581</td>\n",
       "      <td>0.110046</td>\n",
       "      <td>0.226306</td>\n",
       "      <td>0.045716</td>\n",
       "      <td>-0.089050</td>\n",
       "    </tr>\n",
       "    <tr>\n",
       "      <th>ano_construcao</th>\n",
       "      <td>0.139194</td>\n",
       "      <td>-0.226581</td>\n",
       "      <td>1.000000</td>\n",
       "      <td>-0.152206</td>\n",
       "      <td>0.065824</td>\n",
       "      <td>0.109881</td>\n",
       "      <td>0.327983</td>\n",
       "    </tr>\n",
       "    <tr>\n",
       "      <th>codigo_localidade</th>\n",
       "      <td>0.172368</td>\n",
       "      <td>0.110046</td>\n",
       "      <td>-0.152206</td>\n",
       "      <td>1.000000</td>\n",
       "      <td>0.037858</td>\n",
       "      <td>-0.004774</td>\n",
       "      <td>-0.282528</td>\n",
       "    </tr>\n",
       "    <tr>\n",
       "      <th>numero_banheiros</th>\n",
       "      <td>0.250261</td>\n",
       "      <td>0.226306</td>\n",
       "      <td>0.065824</td>\n",
       "      <td>0.037858</td>\n",
       "      <td>1.000000</td>\n",
       "      <td>0.064216</td>\n",
       "      <td>0.043600</td>\n",
       "    </tr>\n",
       "    <tr>\n",
       "      <th>numero_cozinhas</th>\n",
       "      <td>0.170707</td>\n",
       "      <td>0.045716</td>\n",
       "      <td>0.109881</td>\n",
       "      <td>-0.004774</td>\n",
       "      <td>0.064216</td>\n",
       "      <td>1.000000</td>\n",
       "      <td>0.029495</td>\n",
       "    </tr>\n",
       "    <tr>\n",
       "      <th>codigo_bairro</th>\n",
       "      <td>-0.020846</td>\n",
       "      <td>-0.089050</td>\n",
       "      <td>0.327983</td>\n",
       "      <td>-0.282528</td>\n",
       "      <td>0.043600</td>\n",
       "      <td>0.029495</td>\n",
       "      <td>1.000000</td>\n",
       "    </tr>\n",
       "  </tbody>\n",
       "</table>\n",
       "</div>"
      ],
      "text/plain": [
       "                   valor_aluguel   area_m2  ano_construcao  codigo_localidade  \\\n",
       "valor_aluguel           1.000000  0.584878        0.139194           0.172368   \n",
       "area_m2                 0.584878  1.000000       -0.226581           0.110046   \n",
       "ano_construcao          0.139194 -0.226581        1.000000          -0.152206   \n",
       "codigo_localidade       0.172368  0.110046       -0.152206           1.000000   \n",
       "numero_banheiros        0.250261  0.226306        0.065824           0.037858   \n",
       "numero_cozinhas         0.170707  0.045716        0.109881          -0.004774   \n",
       "codigo_bairro          -0.020846 -0.089050        0.327983          -0.282528   \n",
       "\n",
       "                   numero_banheiros  numero_cozinhas  codigo_bairro  \n",
       "valor_aluguel              0.250261         0.170707      -0.020846  \n",
       "area_m2                    0.226306         0.045716      -0.089050  \n",
       "ano_construcao             0.065824         0.109881       0.327983  \n",
       "codigo_localidade          0.037858        -0.004774      -0.282528  \n",
       "numero_banheiros           1.000000         0.064216       0.043600  \n",
       "numero_cozinhas            0.064216         1.000000       0.029495  \n",
       "codigo_bairro              0.043600         0.029495       1.000000  "
      ]
     },
     "execution_count": 12,
     "metadata": {},
     "output_type": "execute_result"
    }
   ],
   "source": [
    "# Correlaçãop entre as variáveis\n",
    "df_dsa.corr()"
   ]
  },
  {
   "cell_type": "markdown",
   "metadata": {},
   "source": [
    "O coeficiente de correlação é uma medida estatística que indica a força e a direção da relação linear entre duas variáveis numéricas. Ele varia entre -1 e 1, onde:\n",
    "Um coeficiente de correlação igual a 1 indica uma correlação linear perfeita positiva, ou seja, quando uma variável aumenta, a outra variável também aumenta na mesma proporção.\n",
    "UIm coeficiente de correlação igual a -1 indica uma correlação linear perfeita negativa, olu seja, quando uma variável aumenta, a outra variável diminui na mesma proporção.\n",
    "Um coeficiente de correção igual a 0 sugere que não há correlação linear entre as duas variáveis.\n",
    "O coeficiente de correlação mais comun é o de Pearson, que mede a correlação linear entre duas variáveis. Existem outra medidas de correlação, como o coeficiente de correlação de Spearman, que avalia a relação monotônica entre duas variaveis, e o coeficiente de correlação de Kendal, que considera a concordância entre os rankings das variáveis."
   ]
  },
  {
   "cell_type": "code",
   "execution_count": 13,
   "metadata": {},
   "outputs": [
    {
     "data": {
      "text/plain": [
       "<Axes: xlabel='area_m2', ylabel='valor_aluguel'>"
      ]
     },
     "execution_count": 13,
     "metadata": {},
     "output_type": "execute_result"
    },
    {
     "data": {
      "image/png": "[encoded data removed]",
      "text/plain": [
       "<Figure size 432x288 with 1 Axes>"
      ]
     },
     "metadata": {
      "needs_background": "light"
     },
     "output_type": "display_data"
    }
   ],
   "source": [
    "# Vamos analisar a relação entre a variável de entrada area_m2 e a variável alvo valor_aluguel\n",
    "sns.scatterplot(data = df_dsa, x = 'area_m2', y = 'valor_aluguel')"
   ]
  },
  {
   "cell_type": "markdown",
   "metadata": {},
   "source": [
    "### Regressão Liner Simples\n",
    "\n",
    "A Regressão Linear é uma técnica estatítstica utilizada para modelar a relação entre uma variável dependente (também chamada dce variável resposta ou variável alvo) e uma ou mais variáveis independentes (também chamadas de variáveis explicativas ou preditoras).\n",
    "A Regressão Linear tem como objetivo estimar os coeficientes da equação que melhor descreve essa relação, minimizando a soma dos erros quadráticos entre os valores observados e os valores previstos pelo modelo.\n",
    "Existem dois tipos principais de regressão linear:\n",
    "\n",
    "#####Regressão linear Simples:\n",
    "Neste caso há aprenas uma variável independente envolvida. A equação da Regressão Linear Simples é expressa como:\n",
    "Y = a + bX + E\n",
    "Onde Y é a variavel dependente, X é a variavel independente, a é o coeficinente linear (intercepto), b é o coefiente angular (inclinação) e o E é o erro aleatório.\n",
    "\n",
    "#####Regração Linear Múltipla:\n",
    "Neste caso, há duas ou mais variáveis independentes envolvidas. A equação é expressa como:\n",
    "Y = a +b1x1 + b2x2 + .. +bnxn + E\n",
    "\n",
    "Onde Y é a variável dependente, x1, x2, ..., Xn são as variáveis independentes, a é o coeficiente linear (intercepto), b1, b2, .., bn são os coeficientes angulares (inclinação) e E é o erro aleatório.\n",
    "A Regressão Linear é amplamente utilizada em diversas áreas, como economia, ciências sociais, biologia e engenharia, para prever resultados, avaliat relações causais e identificar fatores que contribuem para um fenômeno específico.\n",
    "\n",
    "Além disso, é uma técnica fundamental para análise de dados e aprendizado de máquina, onde é usada para desenvolver modelos preditivos.\n"
   ]
  },
  {
   "cell_type": "markdown",
   "metadata": {},
   "source": [
    "###Construção dom Modelo OLS (Ordinary Least Squares) com Statsmodels em Python"
   ]
  },
  {
   "cell_type": "code",
   "execution_count": 3,
   "metadata": {},
   "outputs": [
    {
     "data": {
      "text/html": [
       "<div>\n",
       "<style scoped>\n",
       "    .dataframe tbody tr th:only-of-type {\n",
       "        vertical-align: middle;\n",
       "    }\n",
       "\n",
       "    .dataframe tbody tr th {\n",
       "        vertical-align: top;\n",
       "    }\n",
       "\n",
       "    .dataframe thead th {\n",
       "        text-align: right;\n",
       "    }\n",
       "</style>\n",
       "<table border=\"1\" class=\"dataframe\">\n",
       "  <thead>\n",
       "    <tr style=\"text-align: right;\">\n",
       "      <th></th>\n",
       "      <th>valor_aluguel</th>\n",
       "      <th>area_m2</th>\n",
       "      <th>ano_construcao</th>\n",
       "      <th>codigo_localidade</th>\n",
       "      <th>numero_banheiros</th>\n",
       "      <th>numero_cozinhas</th>\n",
       "      <th>codigo_bairro</th>\n",
       "    </tr>\n",
       "  </thead>\n",
       "  <tbody>\n",
       "    <tr>\n",
       "      <th>0</th>\n",
       "      <td>120.97436</td>\n",
       "      <td>35</td>\n",
       "      <td>1939</td>\n",
       "      <td>1</td>\n",
       "      <td>0</td>\n",
       "      <td>0</td>\n",
       "      <td>1112</td>\n",
       "    </tr>\n",
       "    <tr>\n",
       "      <th>1</th>\n",
       "      <td>436.97433</td>\n",
       "      <td>104</td>\n",
       "      <td>1939</td>\n",
       "      <td>1</td>\n",
       "      <td>1</td>\n",
       "      <td>0</td>\n",
       "      <td>1112</td>\n",
       "    </tr>\n",
       "    <tr>\n",
       "      <th>2</th>\n",
       "      <td>355.74360</td>\n",
       "      <td>29</td>\n",
       "      <td>1971</td>\n",
       "      <td>2</td>\n",
       "      <td>0</td>\n",
       "      <td>0</td>\n",
       "      <td>2114</td>\n",
       "    </tr>\n",
       "    <tr>\n",
       "      <th>3</th>\n",
       "      <td>282.92310</td>\n",
       "      <td>39</td>\n",
       "      <td>1972</td>\n",
       "      <td>2</td>\n",
       "      <td>0</td>\n",
       "      <td>0</td>\n",
       "      <td>2148</td>\n",
       "    </tr>\n",
       "    <tr>\n",
       "      <th>4</th>\n",
       "      <td>807.23080</td>\n",
       "      <td>97</td>\n",
       "      <td>1985</td>\n",
       "      <td>1</td>\n",
       "      <td>0</td>\n",
       "      <td>0</td>\n",
       "      <td>2222</td>\n",
       "    </tr>\n",
       "  </tbody>\n",
       "</table>\n",
       "</div>"
      ],
      "text/plain": [
       "   valor_aluguel  area_m2  ano_construcao  codigo_localidade  \\\n",
       "0      120.97436       35            1939                  1   \n",
       "1      436.97433      104            1939                  1   \n",
       "2      355.74360       29            1971                  2   \n",
       "3      282.92310       39            1972                  2   \n",
       "4      807.23080       97            1985                  1   \n",
       "\n",
       "   numero_banheiros  numero_cozinhas  codigo_bairro  \n",
       "0                 0                0           1112  \n",
       "1                 1                0           1112  \n",
       "2                 0                0           2114  \n",
       "3                 0                0           2148  \n",
       "4                 0                0           2222  "
      ]
     },
     "execution_count": 3,
     "metadata": {},
     "output_type": "execute_result"
    }
   ],
   "source": [
    "df_dsa.head()"
   ]
  },
  {
   "cell_type": "code",
   "execution_count": 4,
   "metadata": {},
   "outputs": [],
   "source": [
    "# Definimos a variável dependente\n",
    "y = df_dsa['valor_aluguel']"
   ]
  },
  {
   "cell_type": "code",
   "execution_count": 6,
   "metadata": {},
   "outputs": [],
   "source": [
    "#Definimos a variável independente\n",
    "X = df_dsa['area_m2']"
   ]
  },
  {
   "cell_type": "code",
   "execution_count": 7,
   "metadata": {},
   "outputs": [],
   "source": [
    "#O statsmodels requer a adição de uma constante à variável independente\n",
    "X = sm.add_constant(X)"
   ]
  },
  {
   "cell_type": "code",
   "execution_count": 8,
   "metadata": {},
   "outputs": [],
   "source": [
    "#Criamos o modelo\n",
    "modelo = sm.OLS(y, X)"
   ]
  },
  {
   "cell_type": "markdown",
   "metadata": {},
   "source": [
    "O método sm.OLS(y, X) é uma função para o pacote Statsmodels, biblioteca Python utilizada para análise estatística. A função OLS (Ordinary LEast Squares), é usada para ajustar um modelo de regressão linear, minimizando a soma dos erros quadráticos entre os valores observados e os valores previstos pelo modelo.\n",
    "\n",
    "A função sm.OLS(y, X) recebe dois argumentos principais:\n",
    "\n",
    "y: Um array ou pandas Series representando a variável dependente (variável resposta ou alvo). É a variável que você deseja prever ou explicar com base nas variáveis independentes.\n",
    "\n",
    "X: Um array ou pandas Dataframe represrentando as variáveis independentes (variáveis explicativas ou preditoras). São as variáveis que você deseja usar para explicar ou prever a variável dependente.\n",
    "\n",
    "https://www.statsmodels.org/dev/generated/statsmodels.regression.linear_model.OLS.html"
   ]
  },
  {
   "cell_type": "code",
   "execution_count": 9,
   "metadata": {},
   "outputs": [],
   "source": [
    "#Treino do modelo\n",
    "resultado = modelo.fit()"
   ]
  },
  {
   "cell_type": "code",
   "execution_count": 10,
   "metadata": {},
   "outputs": [
    {
     "name": "stdout",
     "output_type": "stream",
     "text": [
      "                            OLS Regression Results                            \n",
      "==============================================================================\n",
      "Dep. Variable:          valor_aluguel   R-squared:                       0.342\n",
      "Model:                            OLS   Adj. R-squared:                  0.342\n",
      "Method:                 Least Squares   F-statistic:                     1559.\n",
      "Date:                Tue, 16 Jul 2024   Prob (F-statistic):          6.84e-275\n",
      "Time:                        04:43:26   Log-Likelihood:                -19461.\n",
      "No. Observations:                3000   AIC:                         3.893e+04\n",
      "Df Residuals:                    2998   BIC:                         3.894e+04\n",
      "Df Model:                           1                                         \n",
      "Covariance Type:            nonrobust                                         \n",
      "==============================================================================\n",
      "                 coef    std err          t      P>|t|      [0.025      0.975]\n",
      "------------------------------------------------------------------------------\n",
      "const        133.6988      8.750     15.279      0.000     116.541     150.856\n",
      "area_m2        4.8386      0.123     39.482      0.000       4.598       5.079\n",
      "==============================================================================\n",
      "Omnibus:                      206.173   Durbin-Watson:                   2.003\n",
      "Prob(Omnibus):                  0.000   Jarque-Bera (JB):              441.379\n",
      "Skew:                           0.448   Prob(JB):                     1.43e-96\n",
      "Kurtosis:                       4.651   Cond. No.                         215.\n",
      "==============================================================================\n",
      "\n",
      "Notes:\n",
      "[1] Standard Errors assume that the covariance matrix of the errors is correctly specified.\n"
     ]
    }
   ],
   "source": [
    "print(resultado.summary())"
   ]
  },
  {
   "cell_type": "markdown",
   "metadata": {},
   "source": [
    "##Interpretando o Resultado do Modelo Estatístico com Statsmodels\n",
    "A tabela acima mostra o resumo do modelo com diversas estatísticas. Aqui faremos a análise de uma delas, o R².\n",
    "\n",
    "O coeficiente de determinação, também conhecido como R², é uma medida estatística que avalia o quão bem o modelo de regressão se ajusta aos dados observados. Ele varia de 0, 1 e representa a proporção da variação total da variável dependente que é explicada pelo modelo de regressão.\n",
    "\n",
    "A interpretação do R² é a seguinte:\n",
    "\n",
    "R² = 0: Neste caso, o modelo de regressão não explica nenhuma variação na variável dependente. Isso seguinifica que o modelo não é útil para prever ou explicar a variável de interesse.\n",
    "\n",
    "R² = 1: Neste caso, o modelo de regressão explica toda a variação na variável dependente. Isso significa que o modelo se ajusta perfeitamente aos dados e é extremamente útil para prever ou explicar a variável de interesse.\n",
    "\n",
    "0 < R² < 1: Neste caso, o modelo de regressão explica uma parte da variação na variável dependente. Quanto maior o valor de R², melhor o modelo se ajusta aos dados e melhor é a sua capacidade de prever ou explicar a variável de interesse.\n",
    "\n",
    "É importante notar que um R² alto não garante que o modelo seja adequado, nem que haja uma relação causau entre as variáveis. Um R² alto pode ser resultado de variáveis irrelevantes, multicolinearidade ou até mesmo de um ajuste excessivo (overfiting). Portanto, é essencial avaliar outras estatísticas e diagnosticar o modelo antes de tirar conclusões definitivas."
   ]
  },
  {
   "cell_type": "code",
   "execution_count": 12,
   "metadata": {},
   "outputs": [
    {
     "data": {
      "image/png": "[encoded data removed]",
      "text/plain": [
       "<Figure size 864x432 with 1 Axes>"
      ]
     },
     "metadata": {
      "needs_background": "light"
     },
     "output_type": "display_data"
    }
   ],
   "source": [
    "#plot\n",
    "plt.figure(figsize = (12, 6))\n",
    "plt.xlabel('area_m2', size = 16)\n",
    "plt.ylabel('valor_aluguel', size = 16)\n",
    "plt.plot(X[\"area_m2\"], y, 'o', label = \"Dados Reais\")\n",
    "plt.plot(X['area_m2'], resultado.fittedvalues, 'r-', label = 'Linha de Regressão (Previsões do Modelo)')\n",
    "plt.legend(loc = 'best')\n",
    "plt.show()"
   ]
  },
  {
   "cell_type": "markdown",
   "metadata": {},
   "source": [
    "###Conclusão\n",
    "\n",
    "Claramente existe uma forte relação entre a área (em m²) d imóveis e o valor do aluguel. Entretanto, apenas a área dos imóveis não é suficiente para explicar a variação no valor do aluguel, pois nosso modelo obteve um coeficiente de determinação(R²) de aprenas 0.34.\n",
    "\n",
    "O ideal seria usar mais variáveis de entrada para construir o modelo a fim de compreender se outros fatores influenciam no valor do aluguel.\n",
    "\n",
    "É sempre importante deixar claro que a correlação não implica causalidade e que não podemos afirmar que o valor do aluguel muda apenas devido à área dos imóveis. Para estudar causalidade devemos aplicar Análise Causal."
   ]
  }
 ],
 "metadata": {
  "kernelspec": {
   "display_name": "Python 3",
   "language": "python",
   "name": "python3"
  },
  "language_info": {
   "codemirror_mode": {
    "name": "ipython",
    "version": 3
   },
   "file_extension": ".py",
   "mimetype": "text/x-python",
   "name": "python",
   "nbconvert_exporter": "python",
   "pygments_lexer": "ipython3",
   "version": "3.10.12"
  }
 },
 "nbformat": 4,
 "nbformat_minor": 2
}
