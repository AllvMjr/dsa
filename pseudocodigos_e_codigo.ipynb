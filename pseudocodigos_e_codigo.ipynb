{
 "cells": [
  {
   "cell_type": "markdown",
   "id": "897cc1f9",
   "metadata": {},
   "source": [
    "# Executando um projeto com pseudo-código para calcular a área de um paralelogramo\n",
    "\n"
   ]
  },
  {
   "cell_type": "markdown",
   "id": "73aa3aca",
   "metadata": {},
   "source": [
    "Inicio\n",
    "    Apresentar uma tela de boas vindas\n",
    "    Solicitar ao usuário para inserir o comprimento da base do pararelogramo\n",
    "    Armazenar o valor em uma variável\n",
    "    Solicitar ao usuário para inserir a altura do paralelogramo\n",
    "    Armazenar o valor da altura em uma variavel\n",
    "    Calcular a área do paralelogramo sendo comprimento * altura\n",
    "    Armazenar o calculo em uma variavel\n",
    "    Exiba o resultado do calculo em tela\n",
    "Fim"
   ]
  },
  {
   "cell_type": "code",
   "execution_count": 1,
   "id": "73ce9e25",
   "metadata": {},
   "outputs": [
    {
     "name": "stdout",
     "output_type": "stream",
     "text": [
      "Seja bem vindo, ao calculo de área de um paralelogramo\n"
     ]
    }
   ],
   "source": [
    "#Apresentar tela de boas vindas\n",
    "print('Seja bem vindo, ao calculo de área de um paralelogramo')"
   ]
  },
  {
   "cell_type": "code",
   "execution_count": 2,
   "id": "389904af",
   "metadata": {},
   "outputs": [
    {
     "name": "stdout",
     "output_type": "stream",
     "text": [
      "Insira o comprimento da base do paralelogramo4\n"
     ]
    }
   ],
   "source": [
    "#Solicitar ao usuário o comprimento da base do paralelogramo\n",
    "comprimento = float(input('Insira o comprimento da base do paralelogramo'))"
   ]
  },
  {
   "cell_type": "code",
   "execution_count": 3,
   "id": "9c1cf8c6",
   "metadata": {},
   "outputs": [
    {
     "name": "stdout",
     "output_type": "stream",
     "text": [
      "Insira a altura do paralelogramo6\n"
     ]
    }
   ],
   "source": [
    "#Solicitar ao usuário a altura do paralelogramo\n",
    "altura = float(input('Insira a altura do paralelogramo'))"
   ]
  },
  {
   "cell_type": "code",
   "execution_count": 4,
   "id": "c2b51463",
   "metadata": {},
   "outputs": [],
   "source": [
    "#Calcular a área sendo: comprimento * altura e armazenar em uma variavel\n",
    "calculo = comprimento * altura"
   ]
  },
  {
   "cell_type": "code",
   "execution_count": 5,
   "id": "722a7d72",
   "metadata": {},
   "outputs": [
    {
     "name": "stdout",
     "output_type": "stream",
     "text": [
      "O resultado da área do paralelogramo é: 24.0\n"
     ]
    }
   ],
   "source": [
    "#Exibir em tela o calculo do paralelogramo\n",
    "print('O resultado da área do paralelogramo é:', calculo)"
   ]
  },
  {
   "cell_type": "markdown",
   "id": "9b5f99e8",
   "metadata": {},
   "source": [
    "# Criar uma calculadora Simples"
   ]
  },
  {
   "cell_type": "markdown",
   "id": "296f3e4d",
   "metadata": {},
   "source": [
    "Inicio\n",
    "    Tela de apresentação da calculadora   \n",
    "    O sistema deve solicitar ao usuário o primeiro valor\n",
    "    Armazenar o valor digitado em uma variavel\n",
    "    O sistema deve solicitar ao usuário o segundo valor\n",
    "    Armazenar o valor digitado em uma variavel\n",
    "    Solicitar ao usuário qual tipo de calculo será executado, dando um exemplo das operações\n",
    "    Armazenar o valor em uma variavel\n",
    "    Calcular os valores \n",
    "    Armazenar os valores em uma variavel\n",
    "    Exibir o resultado em Tela\n",
    "Fim"
   ]
  },
  {
   "cell_type": "code",
   "execution_count": 25,
   "id": "c82cb6ce",
   "metadata": {},
   "outputs": [
    {
     "name": "stdout",
     "output_type": "stream",
     "text": [
      "Bem vindo à calculadora Simples\n"
     ]
    }
   ],
   "source": [
    "#Tela de Boas Vindas\n",
    "print(\"Bem vindo à calculadora Simples\")"
   ]
  },
  {
   "cell_type": "code",
   "execution_count": 26,
   "id": "a5e9d8ed",
   "metadata": {},
   "outputs": [
    {
     "name": "stdout",
     "output_type": "stream",
     "text": [
      "Digite o primeito número: 5\n"
     ]
    }
   ],
   "source": [
    "primeiroN = float(input(\"Digite o primeito número: \"))"
   ]
  },
  {
   "cell_type": "code",
   "execution_count": 27,
   "id": "80962ac4",
   "metadata": {},
   "outputs": [
    {
     "name": "stdout",
     "output_type": "stream",
     "text": [
      "Digite o segundo número: 5\n"
     ]
    }
   ],
   "source": [
    "segundoN = float(input(\"Digite o segundo número: \"))"
   ]
  },
  {
   "cell_type": "code",
   "execution_count": 28,
   "id": "b298dbdc",
   "metadata": {},
   "outputs": [
    {
     "name": "stdout",
     "output_type": "stream",
     "text": [
      "Digite a operação desejada, somente as 4 operações simples + - * / *\n"
     ]
    }
   ],
   "source": [
    "operacao = input('Digite a operação desejada, somente as 4 operações simples + - * / ')       "
   ]
  },
  {
   "cell_type": "code",
   "execution_count": 32,
   "id": "5884ba08",
   "metadata": {},
   "outputs": [
    {
     "name": "stdout",
     "output_type": "stream",
     "text": [
      "Será executada operação de Multiplicação\n"
     ]
    }
   ],
   "source": [
    "match operacao:\n",
    "    case \"-\":\n",
    "        print(\"Será executada operação de Subtração\")\n",
    "        calculo = primeiroN - segundoN\n",
    "    case \"+\":\n",
    "        print(\"Será executada operação de Adição\")\n",
    "        calculo = primeiroN + segundoN\n",
    "    case \"*\":\n",
    "        print(\"Será executada operação de Multiplicação\")\n",
    "        calculo = primeiroN * segundoN\n",
    "    case \"/\":\n",
    "        print(\"Será executada operação de Divisão\")\n",
    "        calculo = primeiroN / segundoN\n",
    "    case _:\n",
    "        print(\"Está operação ainda não é realizada\")"
   ]
  },
  {
   "cell_type": "code",
   "execution_count": 33,
   "id": "6c844e00",
   "metadata": {},
   "outputs": [
    {
     "name": "stdout",
     "output_type": "stream",
     "text": [
      "O calculo realizado é:  25.0\n"
     ]
    }
   ],
   "source": [
    "print(\"O calculo realizado é: \", calculo)"
   ]
  },
  {
   "cell_type": "markdown",
   "id": "7c74d3b8",
   "metadata": {},
   "source": [
    "# pseudocódigo bubble sort"
   ]
  },
  {
   "cell_type": "markdown",
   "id": "62ee08ce",
   "metadata": {},
   "source": [
    "Inicio\n",
    "    Tela de Boas vindas\n",
    "    Solicitar ao usuario que digite o primeiro numero\n",
    "    Armazenar em uma variavel\n",
    "    Solicitar ao usuário que digite o segundo numero\n",
    "    Armazenar em uma variavel\n",
    "    Solicitar ao usuário que digite o terceiro numero\n",
    "    Armazenar em uma variavel\n",
    "    Colocar estes os numeros digitados em uma lista\n",
    "    criar variavel de lista\n",
    "    Comparar os numeros para ordenar\n",
    "    Apresentar em tela.\n",
    "Fim"
   ]
  },
  {
   "cell_type": "code",
   "execution_count": 35,
   "id": "422f9411",
   "metadata": {},
   "outputs": [
    {
     "name": "stdout",
     "output_type": "stream",
     "text": [
      "Boas Vindas ao Bubble sort\n"
     ]
    }
   ],
   "source": [
    "#Boas vindas\n",
    "print(\"Boas Vindas ao Bubble sort\")"
   ]
  },
  {
   "cell_type": "code",
   "execution_count": 36,
   "id": "e0cb16d0",
   "metadata": {},
   "outputs": [
    {
     "name": "stdout",
     "output_type": "stream",
     "text": [
      "Digite um numero: 50\n"
     ]
    }
   ],
   "source": [
    "n1 = int(input('Digite um numero: '))"
   ]
  },
  {
   "cell_type": "code",
   "execution_count": 37,
   "id": "8e94aa0f",
   "metadata": {},
   "outputs": [
    {
     "name": "stdout",
     "output_type": "stream",
     "text": [
      "Digite um numero: 2\n"
     ]
    }
   ],
   "source": [
    "n2 = int(input('Digite um numero: '))"
   ]
  },
  {
   "cell_type": "code",
   "execution_count": 38,
   "id": "2556faae",
   "metadata": {},
   "outputs": [
    {
     "name": "stdout",
     "output_type": "stream",
     "text": [
      "Digite um numero: 30\n"
     ]
    }
   ],
   "source": [
    "n3 = int(input('Digite um numero: '))"
   ]
  },
  {
   "cell_type": "code",
   "execution_count": 39,
   "id": "658d9cf9",
   "metadata": {},
   "outputs": [],
   "source": [
    "numeros = [n1, n2, n3]"
   ]
  },
  {
   "cell_type": "code",
   "execution_count": 41,
   "id": "f374a119",
   "metadata": {},
   "outputs": [],
   "source": [
    "size = len(numeros)"
   ]
  },
  {
   "cell_type": "code",
   "execution_count": 42,
   "id": "681e4202",
   "metadata": {},
   "outputs": [
    {
     "name": "stdout",
     "output_type": "stream",
     "text": [
      "3\n"
     ]
    }
   ],
   "source": [
    "print(size)"
   ]
  },
  {
   "cell_type": "code",
   "execution_count": 49,
   "id": "860a7b3b",
   "metadata": {},
   "outputs": [
    {
     "name": "stdout",
     "output_type": "stream",
     "text": [
      "[2, 30, 50]\n"
     ]
    }
   ],
   "source": [
    "for i in range(size -1):\n",
    "    for j in range(size -i -1):\n",
    "        if numeros[j] > numeros[j + 1]:\n",
    "            numeros[j], numeros[j + 1] = numeros[j + 1], numeros[j]\n",
    "\n",
    "print(numeros)"
   ]
  }
 ],
 "metadata": {
  "kernelspec": {
   "display_name": "Python 3 (ipykernel)",
   "language": "python",
   "name": "python3"
  },
  "language_info": {
   "codemirror_mode": {
    "name": "ipython",
    "version": 3
   },
   "file_extension": ".py",
   "mimetype": "text/x-python",
   "name": "python",
   "nbconvert_exporter": "python",
   "pygments_lexer": "ipython3",
   "version": "3.10.12"
  }
 },
 "nbformat": 4,
 "nbformat_minor": 5
}
