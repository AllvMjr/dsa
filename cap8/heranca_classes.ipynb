{
 "cells": [
  {
   "cell_type": "markdown",
   "metadata": {},
   "source": [
    "### Trabalhando com Herança de classes em Python\n",
    "Em programação orientada a objetos, a herança é um conceito que prrmite criar classes de outras classes existentes, aproveitando os atributos e métodos da classe original e adicionando novos atributos e métodos específicos\n",
    "A classe original é chamada de classe mãe ou superclasse e a nova classe criada é chamada de classe filha ou subclasse\n",
    "A herança é uma técnica importante na POO por que permite reuntilizar o código de maneira eficiente. Em vez de criar uma nova classe do zero, a subclasse pode herdar os atributos e métodos sa superclasse e adicionar apenas o que é necessário. Dessa forma, pa subvclasse pode se concentrar em fornecer funcionalidades adicionais sem precisar se preocupar com as características básicas da classe.\n",
    "Na herança, uma subclasse pode herdar os atributos da superclasse e substituli-los ou estende-los conforme necessário. Por exemplo uma subclasse pode ter método com o mesmo nome de um método da superclasse, mas com um comportamente diferente."
   ]
  },
  {
   "cell_type": "code",
   "execution_count": 2,
   "metadata": {},
   "outputs": [],
   "source": [
    "#  Criando uma classe Animal - Super Classe\n",
    "class Animal():\n",
    "    \n",
    "    def __init__(self):\n",
    "        print('Animal criado')\n",
    "        \n",
    "    def imprimir(self):\n",
    "        print(\"Este é um animal\")\n",
    "        \n",
    "    def comer(self):\n",
    "        print('Hora de Comer')\n",
    "        \n",
    "    def emitir_som(self):\n",
    "        pass"
   ]
  },
  {
   "cell_type": "code",
   "execution_count": 3,
   "metadata": {},
   "outputs": [],
   "source": [
    "# Criando a classe cachorro - sub Classe\n",
    "class Cachorro(Animal):\n",
    "    \n",
    "    def __init__(self):\n",
    "        Animal.__init__(self)\n",
    "        print(\"Objeto cachorro criado\")\n",
    "        \n",
    "    def emitir_som(self):\n",
    "        print(\"Au au\")"
   ]
  },
  {
   "cell_type": "code",
   "execution_count": 4,
   "metadata": {},
   "outputs": [],
   "source": [
    "# Criando a classe cachorro - sub Classe\n",
    "class Gato(Animal):\n",
    "    \n",
    "    def __init__(self):\n",
    "        Animal.__init__(self)\n",
    "        print(\"Objeto gato criado\")\n",
    "        \n",
    "    def emitir_som(self):\n",
    "        print(\"miau\")"
   ]
  },
  {
   "cell_type": "code",
   "execution_count": 5,
   "metadata": {},
   "outputs": [
    {
     "name": "stdout",
     "output_type": "stream",
     "text": [
      "Animal criado\n",
      "Objeto cachorro criado\n"
     ]
    }
   ],
   "source": [
    "# croando um objeto (instanciando a classe)\n",
    "rex = Cachorro()"
   ]
  },
  {
   "cell_type": "code",
   "execution_count": 6,
   "metadata": {},
   "outputs": [
    {
     "name": "stdout",
     "output_type": "stream",
     "text": [
      "Animal criado\n",
      "Objeto gato criado\n"
     ]
    }
   ],
   "source": [
    "zeze = Gato()"
   ]
  },
  {
   "cell_type": "code",
   "execution_count": 7,
   "metadata": {},
   "outputs": [
    {
     "name": "stdout",
     "output_type": "stream",
     "text": [
      "Este é um animal\n"
     ]
    }
   ],
   "source": [
    "rex.imprimir()"
   ]
  },
  {
   "cell_type": "code",
   "execution_count": 8,
   "metadata": {},
   "outputs": [
    {
     "name": "stdout",
     "output_type": "stream",
     "text": [
      "Hora de Comer\n"
     ]
    }
   ],
   "source": [
    "rex.comer()"
   ]
  },
  {
   "cell_type": "code",
   "execution_count": 9,
   "metadata": {},
   "outputs": [
    {
     "name": "stdout",
     "output_type": "stream",
     "text": [
      "Hora de Comer\n"
     ]
    }
   ],
   "source": [
    "zeze.comer()"
   ]
  }
 ],
 "metadata": {
  "kernelspec": {
   "display_name": "Python 3",
   "language": "python",
   "name": "python3"
  },
  "language_info": {
   "codemirror_mode": {
    "name": "ipython",
    "version": 3
   },
   "file_extension": ".py",
   "mimetype": "text/x-python",
   "name": "python",
   "nbconvert_exporter": "python",
   "pygments_lexer": "ipython3",
   "version": "3.10.12"
  }
 },
 "nbformat": 4,
 "nbformat_minor": 2
}
