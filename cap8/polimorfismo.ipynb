{
 "cells": [
  {
   "cell_type": "markdown",
   "metadata": {},
   "source": [
    "### Trabalhando com Polimorgisto de Classes em Python\n",
    "Polimorfismo é um dos conceitos fundamentais da Programação Orientada a Objetos (POO). O polimorfismo permite que o objeto de diferentes classes possam ser tratados de forma unoforme. Isso significa que um objeto pode ser tratado como se fosse um objeto de uma superclasse, mesmo que ele seja uma subclasse\n",
    "Mais especificamente, o polimorfismo se refere à ahabilidade de um objeto responder de diferentes formas a uma mesma mensagem. Isso é possivel por que as subclasses podem implementar métodos com o mesmo nome que os métodos da superclasse, mas com comportamentos diferentes.\n",
    "Com o polimorfismo, os mesmos atributos e métodos podem ser utilizados em objetos distintos, porém com implementações lógicas diferentes."
   ]
  },
  {
   "cell_type": "code",
   "execution_count": 8,
   "metadata": {},
   "outputs": [],
   "source": [
    "# Superclasse\n",
    "class Veiculo():\n",
    "    \n",
    "    def __init__(self, marca, modelo):\n",
    "        self.marca = marca\n",
    "        self.modelo = modelo\n",
    "        \n",
    "    def acelerar(self):\n",
    "        pass\n",
    "    \n",
    "    def frear(self):\n",
    "        pass"
   ]
  },
  {
   "cell_type": "code",
   "execution_count": 9,
   "metadata": {},
   "outputs": [],
   "source": [
    "# Subclasse \n",
    "class Carro(Veiculo):\n",
    "    def acelerar(self):\n",
    "        print(\"O carro está acelerando.\")\n",
    "        \n",
    "    def frear(self):\n",
    "        print(\"O carro está freando.\")"
   ]
  },
  {
   "cell_type": "code",
   "execution_count": 10,
   "metadata": {},
   "outputs": [],
   "source": [
    "# Sub Class\n",
    "class Moto(Veiculo):\n",
    "    \n",
    "    def acelerar(self):\n",
    "        print(\"A moto está acelerando\")\n",
    "        \n",
    "    def frear(self):\n",
    "        print(\"A moto está freando.\")"
   ]
  },
  {
   "cell_type": "code",
   "execution_count": 11,
   "metadata": {},
   "outputs": [],
   "source": [
    "# Sub Class\n",
    "class Aviao(Veiculo):\n",
    "    \n",
    "    def acelerar(self):\n",
    "        print(\"O avião está acelerando\")\n",
    "        \n",
    "    def frear(self):\n",
    "        print(\"O mavião está freando.\")\n",
    "        \n",
    "    def decolar(self):\n",
    "        print(\"O avião está decolando.\")"
   ]
  },
  {
   "cell_type": "code",
   "execution_count": 12,
   "metadata": {},
   "outputs": [],
   "source": [
    "# Criar os objetos\n",
    "list_veiculos = [Carro(\"Porsche\", \"911 Turbo\"), Moto(\"Honda\", \"CB 1000R Black Edition\"), Aviao(\"Boing\", '757')]"
   ]
  },
  {
   "cell_type": "code",
   "execution_count": 13,
   "metadata": {},
   "outputs": [
    {
     "name": "stdout",
     "output_type": "stream",
     "text": [
      "O carro está acelerando.\n",
      "O carro está freando.\n",
      "---\n",
      "A moto está acelerando\n",
      "A moto está freando.\n",
      "---\n",
      "O avião está acelerando\n",
      "O mavião está freando.\n",
      "O avião está decolando.\n",
      "---\n"
     ]
    }
   ],
   "source": [
    "# loop\n",
    "for item in list_veiculos:\n",
    "    # O método acelerar tem comportamento diferente dependendo do tipo de objeto\n",
    "    item.acelerar()\n",
    "    \n",
    "    # O método frear tem comportamento dependendo do tipo de objeto\n",
    "    item.frear()\n",
    "    \n",
    "    #Executamos o método decolar somente se o objeto for instancia da classe avião\n",
    "    if isinstance(item, Aviao):\n",
    "        item.decolar()\n",
    "        \n",
    "    print(\"---\")"
   ]
  }
 ],
 "metadata": {
  "kernelspec": {
   "display_name": "Python 3",
   "language": "python",
   "name": "python3"
  },
  "language_info": {
   "codemirror_mode": {
    "name": "ipython",
    "version": 3
   },
   "file_extension": ".py",
   "mimetype": "text/x-python",
   "name": "python",
   "nbconvert_exporter": "python",
   "pygments_lexer": "ipython3",
   "version": "3.10.12"
  }
 },
 "nbformat": 4,
 "nbformat_minor": 2
}
