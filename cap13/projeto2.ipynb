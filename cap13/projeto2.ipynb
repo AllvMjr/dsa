{
 "cells": [
  {
   "cell_type": "markdown",
   "metadata": {},
   "source": [
    "# Projeto 2\n",
    "\n",
    "### Análise exploratória de Dados em Linguagem Python para área de Varejo"
   ]
  },
  {
   "cell_type": "code",
   "execution_count": null,
   "metadata": {},
   "outputs": [],
   "source": [
    "# Importanções\n",
    "import numpy as np\n",
    "import pandas as pd\n",
    "import matplotlib.pyplot as plt\n",
    "import seaborn as sns\n",
    "import datetime as dt"
   ]
  },
  {
   "cell_type": "markdown",
   "metadata": {},
   "source": [
    "### Carregando os dados"
   ]
  },
  {
   "cell_type": "code",
   "execution_count": 3,
   "metadata": {},
   "outputs": [],
   "source": [
    "df = pd.read_csv('dataset.csv')\n",
    "#df = pd.read_excel('Sample_Superstore.xls')"
   ]
  },
  {
   "cell_type": "code",
   "execution_count": null,
   "metadata": {},
   "outputs": [],
   "source": [
    "df.shape"
   ]
  },
  {
   "cell_type": "code",
   "execution_count": null,
   "metadata": {},
   "outputs": [],
   "source": [
    "df.head()"
   ]
  },
  {
   "cell_type": "code",
   "execution_count": null,
   "metadata": {},
   "outputs": [],
   "source": [
    "df.tail()"
   ]
  },
  {
   "cell_type": "markdown",
   "metadata": {},
   "source": [
    "### Análise Exploratória"
   ]
  },
  {
   "cell_type": "code",
   "execution_count": null,
   "metadata": {},
   "outputs": [],
   "source": [
    "# Colunas do conjunto de dados\n",
    "df.columns"
   ]
  },
  {
   "cell_type": "code",
   "execution_count": null,
   "metadata": {},
   "outputs": [],
   "source": [
    "# Verificando o tipo de dados de cada coluna\n",
    "df.dtypes"
   ]
  },
  {
   "cell_type": "code",
   "execution_count": null,
   "metadata": {},
   "outputs": [],
   "source": [
    "# Resumo estatŕistico da coluna com o valor de Venda\n",
    "df['Valor_Venda'].describe()"
   ]
  },
  {
   "cell_type": "code",
   "execution_count": null,
   "metadata": {},
   "outputs": [],
   "source": [
    "# Verificando se há registros duplicados\n",
    "df[df.duplicated()]"
   ]
  },
  {
   "cell_type": "code",
   "execution_count": null,
   "metadata": {},
   "outputs": [],
   "source": [
    "# Verificando se ha valores ausentes\n",
    "df.isnull().sum()"
   ]
  },
  {
   "cell_type": "code",
   "execution_count": null,
   "metadata": {},
   "outputs": [],
   "source": [
    "df.head()"
   ]
  },
  {
   "cell_type": "markdown",
   "metadata": {},
   "source": [
    "# Pergunta 1\n",
    "### Qual cidade com maior valor de Venda de Produtos da Categoria \"Office Supplies\"?"
   ]
  },
  {
   "cell_type": "code",
   "execution_count": null,
   "metadata": {},
   "outputs": [],
   "source": [
    "filtro = df[df['Categoria'] == 'Office Supplies'].groupby('Cidade')['Valor_Venda'].sum().idxmax()"
   ]
  },
  {
   "cell_type": "code",
   "execution_count": null,
   "metadata": {},
   "outputs": [],
   "source": [
    "filtro"
   ]
  },
  {
   "cell_type": "markdown",
   "metadata": {},
   "source": [
    "# Pergunta 2\n",
    "\n",
    "Qual o total de vendas por Data do Pedido"
   ]
  },
  {
   "cell_type": "code",
   "execution_count": null,
   "metadata": {},
   "outputs": [],
   "source": [
    "total_pedido = df.groupby('Data_Pedido')['Valor_Venda'].sum()\n",
    "total_pedido.head()"
   ]
  },
  {
   "cell_type": "code",
   "execution_count": null,
   "metadata": {},
   "outputs": [],
   "source": [
    "#plotando\n",
    "plt.figure(figsize = (20, 6))\n",
    "total_pedido.plot(x = 'Data_Pedido', y = 'Valor_Venda', color = 'green')\n",
    "plt.title('Total de Vendas por Data pedido')\n",
    "plt.show()"
   ]
  },
  {
   "cell_type": "markdown",
   "metadata": {},
   "source": [
    "# Pergunta 3\n",
    "Qual o total de vendas por estado"
   ]
  },
  {
   "cell_type": "code",
   "execution_count": null,
   "metadata": {},
   "outputs": [],
   "source": [
    "total_estado = df.groupby('Estado')['Valor_Venda'].sum().reset_index()\n",
    "total_estado.head()\n"
   ]
  },
  {
   "cell_type": "code",
   "execution_count": null,
   "metadata": {},
   "outputs": [],
   "source": [
    "plt.figure(figsize=(20, 6))\n",
    "sns.barplot(data = total_estado, x = 'Estado', y = 'Valor_Venda').set(title = 'Vendas por Estado')\n",
    "\n",
    "plt.xticks(rotation = 80)\n",
    "plt.show()"
   ]
  },
  {
   "cell_type": "markdown",
   "metadata": {},
   "source": [
    "## Pergunta 4:\n",
    "\n",
    "### Quais São as 10 Cidades com Maior Total de Vendas?\n",
    "\n",
    "Demonstre o resultado através de um gráfico de barras."
   ]
  },
  {
   "cell_type": "code",
   "execution_count": null,
   "metadata": {},
   "outputs": [],
   "source": [
    "df.head()"
   ]
  },
  {
   "cell_type": "code",
   "execution_count": null,
   "metadata": {},
   "outputs": [],
   "source": [
    "# Agrupamos por cidade, calcujlamos o total de vendas e ordenamos listando somente os 10 primeiros registros\n",
    "maior_total = df.groupby('Cidade')['Valor_Venda'].sum().reset_index().sort_values(by = 'Valor_Venda', ascending=False).head(10)"
   ]
  },
  {
   "cell_type": "code",
   "execution_count": null,
   "metadata": {},
   "outputs": [],
   "source": [
    "plt.figure(figsize=(20,6))\n",
    "sns.barplot(data=maior_total, x = 'Cidade', y = 'Valor_Venda').set(title = 'top 10 cidades em vendas')\n",
    "plt.xticks = 80\n",
    "plt.show()"
   ]
  },
  {
   "cell_type": "markdown",
   "metadata": {},
   "source": [
    "## Pergunta de 5:\n",
    "\n",
    "### Qual Segmento Teve o Maior Total de Vendas?\n",
    "\n",
    "Demonstre o resultado através de um gráfico de pizza."
   ]
  },
  {
   "cell_type": "code",
   "execution_count": null,
   "metadata": {},
   "outputs": [],
   "source": [
    "total_segmento = df.groupby('Segmento')['Valor_Venda'].sum().reset_index().sort_values(by = 'Valor_Venda', ascending=False)\n",
    "total_segmento.head()"
   ]
  },
  {
   "cell_type": "code",
   "execution_count": 8,
   "metadata": {},
   "outputs": [],
   "source": [
    "# Função para converter os dados em valor absoluto\n",
    "def autopct_format(value):\n",
    "    def my_format(pct):\n",
    "        total = sum(value)\n",
    "        val = int(round(pct * total / 100.0))\n",
    "        return ' $ {v:d}'.format(v = val)\n",
    "    return my_format"
   ]
  },
  {
   "cell_type": "code",
   "execution_count": null,
   "metadata": {},
   "outputs": [],
   "source": [
    "plt.figure(figsize=(16, 6))\n",
    "plt.pie(total_segmento['Valor_Venda'], \n",
    "        labels=total_segmento['Segmento'], \n",
    "        autopct=autopct_format(total_segmento['Valor_Venda']), startangle=90)\n",
    "\n",
    "# Limpa Circulo central\n",
    "ciculo_central = plt.Circle((0,0), 0.82, fc = 'white')\n",
    "fig = plt.gcf()\n",
    "fig.gca().add_artist(ciculo_central)\n",
    "plt.annotate(text = 'Total de Vendas: ' + '$ ' + str(int(sum(total_segmento['Valor_Venda']))), xy = (-0.35 , 0))\n",
    "plt.title('Vendas por segmento')\n",
    "plt.show()"
   ]
  },
  {
   "cell_type": "markdown",
   "metadata": {},
   "source": [
    "## Pergunta de Negócio 6 (Desafio Nível Baby):\n",
    "\n",
    "### Qual o Total de Vendas Por Segmento e Por Ano?"
   ]
  },
  {
   "cell_type": "code",
   "execution_count": null,
   "metadata": {},
   "outputs": [],
   "source": [
    "# Convertemosm a coluna de dados para o time datetime para obter o formato adequado\n",
    "df['Data_Pedido'] = pd.to_datetime(df['Data_Pedido'], dayfirst= True)\n",
    "df.dtypes\n",
    "df.head()\n",
    "df['Ano'] = df['Data_Pedido'].dt.year\n",
    "df.head()"
   ]
  },
  {
   "cell_type": "code",
   "execution_count": null,
   "metadata": {},
   "outputs": [],
   "source": [
    "segmento_ano = df.groupby(['Ano', 'Segmento'])['Valor_Venda'].sum()\n",
    "segmento_ano"
   ]
  },
  {
   "cell_type": "markdown",
   "metadata": {},
   "source": [
    "## Pergunta de Negócio 7 (Desafio Nível Júnior):\n",
    "\n",
    "Os gestores da empresa estão considerando conceder diferentes faixas de descontos e gostariam de fazer uma simulação com base na regra abaixo:\n",
    "\n",
    "- Se o Valor_Venda for maior que 1000 recebe 15% de desconto.\n",
    "- Se o Valor_Venda for menor que 1000 recebe 10% de desconto.\n",
    "\n",
    "### Quantas Vendas Receberiam 15% de Desconto?"
   ]
  },
  {
   "cell_type": "code",
   "execution_count": null,
   "metadata": {},
   "outputs": [],
   "source": [
    "# cria uma nova coluna de acordo com a regra definica acima\n",
    "df['Desconto'] = np.where(df['Valor_Venda'] > 1000, 0.15, 0.10)"
   ]
  },
  {
   "cell_type": "code",
   "execution_count": null,
   "metadata": {},
   "outputs": [],
   "source": [
    "df.head()"
   ]
  },
  {
   "cell_type": "code",
   "execution_count": null,
   "metadata": {},
   "outputs": [],
   "source": [
    "# Total por cada valor da variável\n",
    "df['Desconto'].value_counts()"
   ]
  },
  {
   "cell_type": "markdown",
   "metadata": {},
   "source": [
    "## Pergunta  8 (Desafio Nível Master):\n",
    "\n",
    "### Considere Que a Empresa Decida Conceder o Desconto de 15% do Item Anterior. Qual Seria a Média do Valor de Venda Antes e Depois do Desconto?"
   ]
  },
  {
   "cell_type": "code",
   "execution_count": null,
   "metadata": {},
   "outputs": [],
   "source": [
    "# Criamos uma coluna calculando o valor de venda menos o desconto\n",
    "df['Valor_Venda_Desconto'] = df['Valor_Venda'] - (df['Valor_Venda'] * df['Desconto'])\n",
    "df.head()"
   ]
  },
  {
   "cell_type": "code",
   "execution_count": null,
   "metadata": {},
   "outputs": [],
   "source": [
    "# Filtando as vendas antes do desconto de 15%\n",
    "antes_desconto = df.loc[df['Desconto'] == 0.15, 'Valor_Venda']"
   ]
  },
  {
   "cell_type": "code",
   "execution_count": null,
   "metadata": {},
   "outputs": [],
   "source": [
    "# Filtrando as vendas depois do desconto de 15%\n",
    "depois_desconto = df.loc[df['Desconto'] == 0.15, 'Valor_Venda_Desconto']"
   ]
  },
  {
   "cell_type": "code",
   "execution_count": null,
   "metadata": {},
   "outputs": [],
   "source": [
    "media_antes_desconto = antes_desconto.mean()\n",
    "media_depois_desconto = depois_desconto.mean()"
   ]
  },
  {
   "cell_type": "code",
   "execution_count": null,
   "metadata": {},
   "outputs": [],
   "source": [
    "print(\"Media das vendas antes do desconto de 15%: \", round(media_antes_desconto, 2))\n",
    "print(\"\\nMedia das vendas depois do desconto de 15%: \", round(media_depois_desconto, 2))"
   ]
  },
  {
   "cell_type": "markdown",
   "metadata": {},
   "source": [
    "## Pergunta de Negócio 9 (Desafio Nível Master Ninja):\n",
    "\n",
    "### Qual o Média de Vendas Por Segmento, Por Ano e Por Mês?\n",
    "\n",
    "Demonstre o resultado através de gráfico de linha."
   ]
  },
  {
   "cell_type": "code",
   "execution_count": null,
   "metadata": {},
   "outputs": [],
   "source": [
    "df['Mes_Pedido'] = df['Data_Pedido'].dt.month\n",
    "df.head()"
   ]
  },
  {
   "cell_type": "code",
   "execution_count": null,
   "metadata": {},
   "outputs": [],
   "source": [
    "mes_pedido = df.groupby(['Ano', 'Mes_Pedido', 'Segmento'])['Valor_Venda'].agg([np.sum, np.mean, np.median])\n",
    "mes_pedido"
   ]
  },
  {
   "cell_type": "code",
   "execution_count": null,
   "metadata": {},
   "outputs": [],
   "source": [
    "# Vamos Extrair os níveis\n",
    "anos = mes_pedido.index.get_level_values(0)\n",
    "meses = mes_pedido.index.get_level_values(1)\n",
    "segmentos = mes_pedido.index.get_level_values(2)"
   ]
  },
  {
   "cell_type": "markdown",
   "metadata": {},
   "source": [
    "https://seaborn.pydata.org/generated/seaboarn.relplot.html"
   ]
  },
  {
   "cell_type": "code",
   "execution_count": null,
   "metadata": {},
   "outputs": [],
   "source": [
    "#plot\n",
    "plt.figure(figsize=(12, 6))\n",
    "sns.set()\n",
    "fig1 = sns.relplot(kind = 'line',\n",
    "                   data = mes_pedido,\n",
    "                   y = 'mean',\n",
    "                   x = meses,\n",
    "                   hue = segmentos,\n",
    "                   col = anos,\n",
    "                   col_wrap=4)\n",
    "fig2 = sns.relplot(kind = 'line',\n",
    "                   data = mes_pedido,\n",
    "                   y = 'sum',\n",
    "                   x = meses,\n",
    "                   hue = segmentos,\n",
    "                   col = anos,\n",
    "                   col_wrap=4)\n",
    "fig3 = sns.relplot(kind = 'line',\n",
    "                   data = mes_pedido,\n",
    "                   y = 'median',\n",
    "                   x = meses,\n",
    "                   hue = segmentos,\n",
    "                   col = anos,\n",
    "                   col_wrap=4)\n",
    "plt.show"
   ]
  },
  {
   "cell_type": "markdown",
   "metadata": {},
   "source": [
    "## Pergunta  10 (Desafio Nível Master Ninja das Galáxias):\n",
    "\n",
    "### Qual o Total de Vendas Por Categoria e SubCategoria, Considerando Somente as Top 12 SubCategorias? \n",
    "\n",
    "Demonstre tudo através de um único gráfico."
   ]
  },
  {
   "cell_type": "code",
   "execution_count": 4,
   "metadata": {},
   "outputs": [
    {
     "data": {
      "text/html": [
       "<div>\n",
       "<style scoped>\n",
       "    .dataframe tbody tr th:only-of-type {\n",
       "        vertical-align: middle;\n",
       "    }\n",
       "\n",
       "    .dataframe tbody tr th {\n",
       "        vertical-align: top;\n",
       "    }\n",
       "\n",
       "    .dataframe thead th {\n",
       "        text-align: right;\n",
       "    }\n",
       "</style>\n",
       "<table border=\"1\" class=\"dataframe\">\n",
       "  <thead>\n",
       "    <tr style=\"text-align: right;\">\n",
       "      <th></th>\n",
       "      <th></th>\n",
       "      <th>Valor_Venda</th>\n",
       "    </tr>\n",
       "    <tr>\n",
       "      <th>Categoria</th>\n",
       "      <th>SubCategoria</th>\n",
       "      <th></th>\n",
       "    </tr>\n",
       "  </thead>\n",
       "  <tbody>\n",
       "    <tr>\n",
       "      <th>Technology</th>\n",
       "      <th>Phones</th>\n",
       "      <td>325271.2940</td>\n",
       "    </tr>\n",
       "    <tr>\n",
       "      <th>Furniture</th>\n",
       "      <th>Chairs</th>\n",
       "      <td>317919.6250</td>\n",
       "    </tr>\n",
       "    <tr>\n",
       "      <th>Office Supplies</th>\n",
       "      <th>Storage</th>\n",
       "      <td>216188.3620</td>\n",
       "    </tr>\n",
       "    <tr>\n",
       "      <th>Furniture</th>\n",
       "      <th>Tables</th>\n",
       "      <td>202083.3600</td>\n",
       "    </tr>\n",
       "    <tr>\n",
       "      <th>Office Supplies</th>\n",
       "      <th>Binders</th>\n",
       "      <td>194723.3810</td>\n",
       "    </tr>\n",
       "    <tr>\n",
       "      <th rowspan=\"3\" valign=\"top\">Technology</th>\n",
       "      <th>Machines</th>\n",
       "      <td>189238.6310</td>\n",
       "    </tr>\n",
       "    <tr>\n",
       "      <th>Accessories</th>\n",
       "      <td>162791.3620</td>\n",
       "    </tr>\n",
       "    <tr>\n",
       "      <th>Copiers</th>\n",
       "      <td>146248.0940</td>\n",
       "    </tr>\n",
       "    <tr>\n",
       "      <th>Furniture</th>\n",
       "      <th>Bookcases</th>\n",
       "      <td>108045.0467</td>\n",
       "    </tr>\n",
       "    <tr>\n",
       "      <th>Office Supplies</th>\n",
       "      <th>Appliances</th>\n",
       "      <td>104061.6930</td>\n",
       "    </tr>\n",
       "    <tr>\n",
       "      <th>Furniture</th>\n",
       "      <th>Furnishings</th>\n",
       "      <td>88862.7700</td>\n",
       "    </tr>\n",
       "    <tr>\n",
       "      <th>Office Supplies</th>\n",
       "      <th>Paper</th>\n",
       "      <td>76312.7640</td>\n",
       "    </tr>\n",
       "  </tbody>\n",
       "</table>\n",
       "</div>"
      ],
      "text/plain": [
       "                              Valor_Venda\n",
       "Categoria       SubCategoria             \n",
       "Technology      Phones        325271.2940\n",
       "Furniture       Chairs        317919.6250\n",
       "Office Supplies Storage       216188.3620\n",
       "Furniture       Tables        202083.3600\n",
       "Office Supplies Binders       194723.3810\n",
       "Technology      Machines      189238.6310\n",
       "                Accessories   162791.3620\n",
       "                Copiers       146248.0940\n",
       "Furniture       Bookcases     108045.0467\n",
       "Office Supplies Appliances    104061.6930\n",
       "Furniture       Furnishings    88862.7700\n",
       "Office Supplies Paper          76312.7640"
      ]
     },
     "execution_count": 4,
     "metadata": {},
     "output_type": "execute_result"
    }
   ],
   "source": [
    "# Agrupamos por categoria e subcategoria e calculamos a soma somente para as variaveis numericas\n",
    "vendas_categoria_sub = df.groupby(['Categoria',\n",
    "                                   'SubCategoria']).sum(numeric_only= True).sort_values('Valor_Venda', ascending=False).head(12)\n",
    "vendas_categoria_sub"
   ]
  },
  {
   "cell_type": "code",
   "execution_count": 5,
   "metadata": {},
   "outputs": [
    {
     "data": {
      "text/html": [
       "<div>\n",
       "<style scoped>\n",
       "    .dataframe tbody tr th:only-of-type {\n",
       "        vertical-align: middle;\n",
       "    }\n",
       "\n",
       "    .dataframe tbody tr th {\n",
       "        vertical-align: top;\n",
       "    }\n",
       "\n",
       "    .dataframe thead th {\n",
       "        text-align: right;\n",
       "    }\n",
       "</style>\n",
       "<table border=\"1\" class=\"dataframe\">\n",
       "  <thead>\n",
       "    <tr style=\"text-align: right;\">\n",
       "      <th></th>\n",
       "      <th>Categoria</th>\n",
       "      <th>SubCategoria</th>\n",
       "      <th>Valor_Venda</th>\n",
       "    </tr>\n",
       "  </thead>\n",
       "  <tbody>\n",
       "    <tr>\n",
       "      <th>0</th>\n",
       "      <td>Furniture</td>\n",
       "      <td>Chairs</td>\n",
       "      <td>317919</td>\n",
       "    </tr>\n",
       "    <tr>\n",
       "      <th>1</th>\n",
       "      <td>Furniture</td>\n",
       "      <td>Tables</td>\n",
       "      <td>202083</td>\n",
       "    </tr>\n",
       "    <tr>\n",
       "      <th>2</th>\n",
       "      <td>Furniture</td>\n",
       "      <td>Bookcases</td>\n",
       "      <td>108045</td>\n",
       "    </tr>\n",
       "    <tr>\n",
       "      <th>3</th>\n",
       "      <td>Furniture</td>\n",
       "      <td>Furnishings</td>\n",
       "      <td>88862</td>\n",
       "    </tr>\n",
       "    <tr>\n",
       "      <th>4</th>\n",
       "      <td>Office Supplies</td>\n",
       "      <td>Storage</td>\n",
       "      <td>216188</td>\n",
       "    </tr>\n",
       "    <tr>\n",
       "      <th>5</th>\n",
       "      <td>Office Supplies</td>\n",
       "      <td>Binders</td>\n",
       "      <td>194723</td>\n",
       "    </tr>\n",
       "    <tr>\n",
       "      <th>6</th>\n",
       "      <td>Office Supplies</td>\n",
       "      <td>Appliances</td>\n",
       "      <td>104061</td>\n",
       "    </tr>\n",
       "    <tr>\n",
       "      <th>7</th>\n",
       "      <td>Office Supplies</td>\n",
       "      <td>Paper</td>\n",
       "      <td>76312</td>\n",
       "    </tr>\n",
       "    <tr>\n",
       "      <th>8</th>\n",
       "      <td>Technology</td>\n",
       "      <td>Phones</td>\n",
       "      <td>325271</td>\n",
       "    </tr>\n",
       "    <tr>\n",
       "      <th>9</th>\n",
       "      <td>Technology</td>\n",
       "      <td>Machines</td>\n",
       "      <td>189238</td>\n",
       "    </tr>\n",
       "    <tr>\n",
       "      <th>10</th>\n",
       "      <td>Technology</td>\n",
       "      <td>Accessories</td>\n",
       "      <td>162791</td>\n",
       "    </tr>\n",
       "    <tr>\n",
       "      <th>11</th>\n",
       "      <td>Technology</td>\n",
       "      <td>Copiers</td>\n",
       "      <td>146248</td>\n",
       "    </tr>\n",
       "  </tbody>\n",
       "</table>\n",
       "</div>"
      ],
      "text/plain": [
       "          Categoria SubCategoria  Valor_Venda\n",
       "0         Furniture       Chairs       317919\n",
       "1         Furniture       Tables       202083\n",
       "2         Furniture    Bookcases       108045\n",
       "3         Furniture  Furnishings        88862\n",
       "4   Office Supplies      Storage       216188\n",
       "5   Office Supplies      Binders       194723\n",
       "6   Office Supplies   Appliances       104061\n",
       "7   Office Supplies        Paper        76312\n",
       "8        Technology       Phones       325271\n",
       "9        Technology     Machines       189238\n",
       "10       Technology  Accessories       162791\n",
       "11       Technology      Copiers       146248"
      ]
     },
     "execution_count": 5,
     "metadata": {},
     "output_type": "execute_result"
    }
   ],
   "source": [
    "# Convertemos a coluna Valor_Venda em número inteiro e classificamos por cagegoria\n",
    "vendas_categoria_sub = vendas_categoria_sub[['Valor_Venda']].astype(int).sort_values(by = 'Categoria').reset_index()\n",
    "vendas_categoria_sub"
   ]
  },
  {
   "cell_type": "code",
   "execution_count": 7,
   "metadata": {},
   "outputs": [
    {
     "data": {
      "text/html": [
       "<div>\n",
       "<style scoped>\n",
       "    .dataframe tbody tr th:only-of-type {\n",
       "        vertical-align: middle;\n",
       "    }\n",
       "\n",
       "    .dataframe tbody tr th {\n",
       "        vertical-align: top;\n",
       "    }\n",
       "\n",
       "    .dataframe thead th {\n",
       "        text-align: right;\n",
       "    }\n",
       "</style>\n",
       "<table border=\"1\" class=\"dataframe\">\n",
       "  <thead>\n",
       "    <tr style=\"text-align: right;\">\n",
       "      <th></th>\n",
       "      <th>Categoria</th>\n",
       "      <th>Valor_Venda</th>\n",
       "    </tr>\n",
       "  </thead>\n",
       "  <tbody>\n",
       "    <tr>\n",
       "      <th>0</th>\n",
       "      <td>Furniture</td>\n",
       "      <td>716909</td>\n",
       "    </tr>\n",
       "    <tr>\n",
       "      <th>1</th>\n",
       "      <td>Office Supplies</td>\n",
       "      <td>591284</td>\n",
       "    </tr>\n",
       "    <tr>\n",
       "      <th>2</th>\n",
       "      <td>Technology</td>\n",
       "      <td>823548</td>\n",
       "    </tr>\n",
       "  </tbody>\n",
       "</table>\n",
       "</div>"
      ],
      "text/plain": [
       "         Categoria  Valor_Venda\n",
       "0        Furniture       716909\n",
       "1  Office Supplies       591284\n",
       "2       Technology       823548"
      ]
     },
     "execution_count": 7,
     "metadata": {},
     "output_type": "execute_result"
    }
   ],
   "source": [
    "# Criamos outro datafreame somente para os totais por categoria\n",
    "total_cat = vendas_categoria_sub.groupby('Categoria').sum(numeric_only=True).reset_index()\n",
    "total_cat"
   ]
  },
  {
   "cell_type": "code",
   "execution_count": 10,
   "metadata": {},
   "outputs": [],
   "source": [
    "# Lista de Cores para as Categorias\n",
    "cores_categorias = ['#5d00de', '#0ee84f', '#e80e27']"
   ]
  },
  {
   "cell_type": "code",
   "execution_count": 11,
   "metadata": {},
   "outputs": [],
   "source": [
    "# Lista de Cores para as subcategorias\n",
    "cores_subcategorias = ['#aa8cd4',\n",
    "                       '#aa8cd5',\n",
    "                       '#aa8cd6',\n",
    "                       '#aa8cd7',\n",
    "                       '#26c957',\n",
    "                       '#26c958',\n",
    "                       '#26c959',\n",
    "                       '#26c960',\n",
    "                       '#e65e65',\n",
    "                       '#e65e66',\n",
    "                       '#e65e67',\n",
    "                       '#e65e68']"
   ]
  },
  {
   "cell_type": "code",
   "execution_count": 16,
   "metadata": {},
   "outputs": [
    {
     "data": {
      "image/png": "[encoded data removed]",
      "text/plain": [
       "<Figure size 1296x864 with 1 Axes>"
      ]
     },
     "metadata": {},
     "output_type": "display_data"
    }
   ],
   "source": [
    "# plot\n",
    "# Tamanho da figura\n",
    "fig, ax = plt.subplots(figsize = (18, 12))\n",
    "\n",
    "# Grafico das categorias\n",
    "p1 = ax.pie(total_cat['Valor_Venda'],\n",
    "            radius = 1,\n",
    "            labels = total_cat['Categoria'],\n",
    "            wedgeprops = dict(edgecolor = 'white'),\n",
    "            colors = cores_categorias)\n",
    "\n",
    "# Grafico das subcategorias\n",
    "p2 = ax.pie(vendas_categoria_sub['Valor_Venda'],\n",
    "            radius = 0.9,\n",
    "            labels = vendas_categoria_sub['SubCategoria'],\n",
    "            autopct = autopct_format(vendas_categoria_sub['Valor_Venda']),\n",
    "            colors = cores_subcategorias,\n",
    "            labeldistance = 0.7,\n",
    "            wedgeprops = dict(edgecolor = 'white'),\n",
    "            pctdistance = 0.53,\n",
    "            rotatelabels = True)\n",
    "\n",
    "# Limpa o centro do círculo\n",
    "center_circle = plt.Circle((0,0), 0.6, fc = 'White')\n",
    "\n",
    "#labels e anotações\n",
    "fig = plt.gcf()\n",
    "fig.gca().add_artist(center_circle)\n",
    "plt.annotate(text = 'Total de Vendas: $' + str(int(sum(vendas_categoria_sub['Valor_Venda']))), xy = (-0.2, 0))\n",
    "plt.title('Total de Vendas por Categeria e Top 12 Subcastegorias')\n",
    "plt.show()"
   ]
  }
 ],
 "metadata": {
  "kernelspec": {
   "display_name": "Python 3",
   "language": "python",
   "name": "python3"
  },
  "language_info": {
   "codemirror_mode": {
    "name": "ipython",
    "version": 3
   },
   "file_extension": ".py",
   "mimetype": "text/x-python",
   "name": "python",
   "nbconvert_exporter": "python",
   "pygments_lexer": "ipython3",
   "version": "3.10.12"
  }
 },
 "nbformat": 4,
 "nbformat_minor": 2
}
